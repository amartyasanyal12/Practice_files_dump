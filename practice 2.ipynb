{
 "cells": [
  {
   "cell_type": "code",
   "execution_count": 7,
   "metadata": {},
   "outputs": [
    {
     "name": "stdout",
     "output_type": "stream",
     "text": [
      "[1 2 3]\n"
     ]
    }
   ],
   "source": [
    "#creating arrays\n",
    "from numpy import *\n",
    "arr2=array([1,2,3])\n",
    "print(arr2)\n"
   ]
  },
  {
   "cell_type": "code",
   "execution_count": 10,
   "metadata": {},
   "outputs": [
    {
     "name": "stdout",
     "output_type": "stream",
     "text": [
      "The sum is 12\n"
     ]
    }
   ],
   "source": [
    "def func3(a,b):\n",
    "    print(\"The sum is\", a+b)\n",
    "func3(5,7)"
   ]
  },
  {
   "cell_type": "code",
   "execution_count": 1,
   "metadata": {},
   "outputs": [
    {
     "name": "stdout",
     "output_type": "stream",
     "text": [
      "['2', '3', '4', '7', '0', '0', '0', '7', '8']\n"
     ]
    }
   ],
   "source": [
    "text=\"234patwariparavivekanandasaranigarfa700078\"\n",
    "print([x for x in text if x.isdigit()])"
   ]
  },
  {
   "cell_type": "code",
   "execution_count": 4,
   "metadata": {},
   "outputs": [
    {
     "name": "stdout",
     "output_type": "stream",
     "text": [
      "This is a function stating docstring\n"
     ]
    }
   ],
   "source": [
    "#docstring in function\n",
    "def func1(a,b):\n",
    "    \"\"\"This is a function stating docstring\"\"\"\n",
    "    av=(a+b)/2\n",
    "    return av\n",
    "func1(5,9)\n",
    "print(func1.__doc__)"
   ]
  },
  {
   "cell_type": "code",
   "execution_count": 3,
   "metadata": {},
   "outputs": [
    {
     "name": "stdout",
     "output_type": "stream",
     "text": [
      "[ 1.  2.  3.  4.  5.  6.  7.  8.  9. 10. 11. 12. 13. 14. 15.]\n",
      "[ 1.          1.28571429  1.57142857  1.85714286  2.14285714  2.42857143\n",
      "  2.71428571  3.          3.28571429  3.57142857  3.85714286  4.14285714\n",
      "  4.42857143  4.71428571  5.          5.28571429  5.57142857  5.85714286\n",
      "  6.14285714  6.42857143  6.71428571  7.          7.28571429  7.57142857\n",
      "  7.85714286  8.14285714  8.42857143  8.71428571  9.          9.28571429\n",
      "  9.57142857  9.85714286 10.14285714 10.42857143 10.71428571 11.\n",
      " 11.28571429 11.57142857 11.85714286 12.14285714 12.42857143 12.71428571\n",
      " 13.         13.28571429 13.57142857 13.85714286 14.14285714 14.42857143\n",
      " 14.71428571 15.        ]\n"
     ]
    }
   ],
   "source": [
    "from numpy import *\n",
    "arrz=linspace(1,15,15) #16 divides it in equal parts\n",
    "print(arrz)\n",
    "arrz1=linspace(1,15)\n",
    "print(arrz1)#not specifying divides it into equal parts"
   ]
  },
  {
   "cell_type": "code",
   "execution_count": 8,
   "metadata": {},
   "outputs": [
    {
     "name": "stdout",
     "output_type": "stream",
     "text": [
      "[ 6  7  8  9 10]\n"
     ]
    }
   ],
   "source": [
    "from numpy import *\n",
    "arr1=array([1,2,3,4,5])\n",
    "print(arr1+5)\n",
    "    \n",
    "    "
   ]
  },
  {
   "cell_type": "code",
   "execution_count": 24,
   "metadata": {},
   "outputs": [
    {
     "name": "stdout",
     "output_type": "stream",
     "text": [
      "Enter a variable of your choice \n",
      "23\n",
      "Prime number square root 4.795831523312719\n",
      "Do you want to continue with program?: \n",
      "y for yes \n",
      "n for no \n",
      "\n",
      "Enter your choice \n",
      "n\n",
      "Okay Tata\n"
     ]
    }
   ],
   "source": [
    "\n",
    "def calc1():\n",
    "    int1=int(input(\"Enter a variable of your choice \\n\"))\n",
    "    for i in range(2,int1):\n",
    "        if int1%i==0:\n",
    "            print(\"The number is not prime\")\n",
    "            break\n",
    "    else:\n",
    "        v3=sqrt(int1)\n",
    "        print(\"Prime number square root\",v3)\n",
    "        again2()\n",
    "def again2():\n",
    "    print(\"Do you want to continue with program?: \\n\"+\"y for yes \\n\"+\"n for no \\n\")\n",
    "    callback=input(\"Enter your choice \\n\")\n",
    "    if callback=='y':\n",
    "        calc1()\n",
    "    elif callback=='n':\n",
    "        print(\"Okay Tata\")\n",
    "    else:\n",
    "        again2()\n",
    "        \n",
    "calc1()\n"
   ]
  },
  {
   "cell_type": "code",
   "execution_count": 5,
   "metadata": {},
   "outputs": [
    {
     "name": "stdout",
     "output_type": "stream",
     "text": [
      "***\n",
      "***\n",
      "***\n"
     ]
    }
   ],
   "source": [
    "j=3\n",
    "c=0\n",
    "while(True):\n",
    "    print(\"*\"*j)\n",
    "    c+=1\n",
    "    if c==3:\n",
    "        break"
   ]
  },
  {
   "cell_type": "code",
   "execution_count": 7,
   "metadata": {},
   "outputs": [
    {
     "name": "stdout",
     "output_type": "stream",
     "text": [
      "[ 1  2 36 44]\n",
      "[1, 2, 44, 36]\n"
     ]
    }
   ],
   "source": [
    "from numpy import *\n",
    "arrzz=([1,2,44,36])\n",
    "print(sort(arrzz))\n",
    "#creating a new copying array\n",
    "arrzz1=arrzz.copy()#this is a deep copy, wont change values depending on others\n",
    "print(arrzz1)"
   ]
  },
  {
   "cell_type": "code",
   "execution_count": 10,
   "metadata": {},
   "outputs": [
    {
     "name": "stdout",
     "output_type": "stream",
     "text": [
      "Enter a variableww\n",
      "Enter a variable23\n",
      "invalid literal for int() with base 10: 'ww'\n",
      "This is an important line\n"
     ]
    }
   ],
   "source": [
    "#exception handling\n",
    "i1=input(\"Enter a variable\")\n",
    "i2=input(\"Enter a variable\")\n",
    "try:\n",
    "    print(int(i1)+int(i2))\n",
    "\n",
    "except Exception as e:\n",
    "    print(e)\n",
    "\n",
    "print(\"This is an important line\")"
   ]
  },
  {
   "cell_type": "code",
   "execution_count": 6,
   "metadata": {},
   "outputs": [
    {
     "name": "stdout",
     "output_type": "stream",
     "text": [
      "[[2 3 5]\n",
      " [4 5 6]]\n",
      "int32\n",
      "2\n",
      "(2, 3)\n"
     ]
    }
   ],
   "source": [
    "#array\n",
    "from numpy import *\n",
    "vv=array([\n",
    "    [2,3,5],\n",
    "    [4,5,6]\n",
    "    ])\n",
    "print(vv)\n",
    "print(vv.dtype)\n",
    "print(vv.ndim)#gives you the number of arrays\n",
    "print(vv.shape)"
   ]
  },
  {
   "cell_type": "code",
   "execution_count": 7,
   "metadata": {},
   "outputs": [
    {
     "name": "stdout",
     "output_type": "stream",
     "text": [
      "[2 3 5 4 5 6]\n"
     ]
    }
   ],
   "source": [
    "vv2=vv.flatten()\n",
    "print(vv2)"
   ]
  },
  {
   "cell_type": "code",
   "execution_count": 10,
   "metadata": {},
   "outputs": [
    {
     "name": "stdout",
     "output_type": "stream",
     "text": [
      "[[[2 8 9]\n",
      "  [6 5 4]]\n",
      "\n",
      " [[4 5 6]\n",
      "  [7 2 1]]]\n"
     ]
    }
   ],
   "source": [
    "vv3=array([\n",
    "    [2,8,9,6,5,4],\n",
    "    [4,5,6,7,2,1]\n",
    "])\n",
    "vv4=vv3.reshape(2,2,3)\n",
    "print(vv4)"
   ]
  },
  {
   "cell_type": "code",
   "execution_count": 14,
   "metadata": {},
   "outputs": [
    {
     "name": "stdout",
     "output_type": "stream",
     "text": [
      "[[2 4]\n",
      " [5 6]\n",
      " [7 8]]\n"
     ]
    }
   ],
   "source": [
    "vv5=array([\n",
    "    [2,4,5],\n",
    "    [6,7,8]\n",
    "])\n",
    "vv5i=vv5.reshape(3,2)\n",
    "print(vv5i)"
   ]
  },
  {
   "cell_type": "code",
   "execution_count": 3,
   "metadata": {},
   "outputs": [
    {
     "name": "stdout",
     "output_type": "stream",
     "text": [
      "[[1 2 3]\n",
      " [4 3 4]\n",
      " [6 8 9]]\n",
      "[1 3 9]\n",
      "[[ 22  31  38]\n",
      " [ 36  51  66]\n",
      " [ 80 112 141]]\n"
     ]
    }
   ],
   "source": [
    "#creating matrix\n",
    "from numpy import *\n",
    "m=matrix('1 2 3; 4 3 4; 6 8 9')#semicolon separates the rows and columns in this case 3*3 column\n",
    "m1=matrix('2,3,5 ; 4,5,6; 4,6,7')\n",
    "m3=m*m1\n",
    "print(m)\n",
    "print(diagonal(m)) #gives just diagonal values\n",
    "print(m3)"
   ]
  },
  {
   "cell_type": "code",
   "execution_count": 31,
   "metadata": {},
   "outputs": [
    {
     "name": "stdout",
     "output_type": "stream",
     "text": [
      "Enter your number15\n",
      "0 1 1 2 3 5 8 13 "
     ]
    }
   ],
   "source": [
    "#fibonacci \n",
    "n1=int(input(\"Enter your number\"))\n",
    "x=0\n",
    "y=1\n",
    "z=0\n",
    "while(z<=n1):\n",
    "    print(z,end=\" \")\n",
    "    x=y\n",
    "    y=z\n",
    "    z=x+y\n",
    "\n",
    "    "
   ]
  },
  {
   "cell_type": "code",
   "execution_count": 19,
   "metadata": {},
   "outputs": [
    {
     "name": "stdout",
     "output_type": "stream",
     "text": [
      "6\n",
      "5\n",
      "Even number :6 and odd number:5\n"
     ]
    }
   ],
   "source": [
    "l=[12,23,45,66,80,98,24,45,32,31,99]\n",
    "#count the number of even/odd passing a list through a function\n",
    "def c1(l):\n",
    "    e=0\n",
    "    o=0\n",
    "    for i in l:\n",
    "        if i%2==0:\n",
    "            e+=1\n",
    "        else:\n",
    "            o+=1\n",
    "    return e,o\n",
    "\n",
    "e,o=c1(l)\n",
    "\n",
    "\n",
    "print(e)\n",
    "print(o)\n",
    "\n",
    "print(\"Even number :{} and odd number:{}\".format(e,o))"
   ]
  },
  {
   "cell_type": "code",
   "execution_count": 16,
   "metadata": {},
   "outputs": [
    {
     "name": "stdout",
     "output_type": "stream",
     "text": [
      "Enter a number \t5\n",
      "120\n"
     ]
    }
   ],
   "source": [
    "#factorial iterative approach\n",
    "\n",
    "def factorial1(n):\n",
    "    fac=1\n",
    "    for i in range(n):\n",
    "        fac=fac*(i+1)\n",
    "    return fac\n",
    "\n",
    "factorial1(n)\n",
    "\n",
    "n=int(input(\"Enter a number \\t\"))\n",
    "print(factorial1(n))"
   ]
  },
  {
   "cell_type": "code",
   "execution_count": 14,
   "metadata": {},
   "outputs": [
    {
     "name": "stdout",
     "output_type": "stream",
     "text": [
      "4\n",
      "not perfect number\n"
     ]
    }
   ],
   "source": [
    "n=int(input())\n",
    "sum1=0\n",
    "for i in range(1,n):\n",
    "    if n%(i)==0:\n",
    "        sum1+=i\n",
    "if sum1==n:\n",
    "    print(\"Perfect number\")\n",
    "else:\n",
    "    print(\"not perfect number\")"
   ]
  },
  {
   "cell_type": "code",
   "execution_count": 20,
   "metadata": {},
   "outputs": [
    {
     "name": "stdout",
     "output_type": "stream",
     "text": [
      "   September 1998\n",
      "Mo Tu We Th Fr Sa Su\n",
      "    1  2  3  4  5  6\n",
      " 7  8  9 10 11 12 13\n",
      "14 15 16 17 18 19 20\n",
      "21 22 23 24 25 26 27\n",
      "28 29 30\n",
      "\n"
     ]
    }
   ],
   "source": [
    "import calendar\n",
    "print(calendar.month(1998,9))"
   ]
  },
  {
   "cell_type": "code",
   "execution_count": 22,
   "metadata": {},
   "outputs": [
    {
     "name": "stdout",
     "output_type": "stream",
     "text": [
      "                               2000\n",
      "\n",
      "      January                February                March\n",
      "Mo Tu We Th Fr Sa Su   Mo Tu We Th Fr Sa Su   Mo Tu We Th Fr Sa Su\n",
      "                1  2       1  2  3  4  5  6          1  2  3  4  5\n",
      " 3  4  5  6  7  8  9    7  8  9 10 11 12 13    6  7  8  9 10 11 12\n",
      "10 11 12 13 14 15 16   14 15 16 17 18 19 20   13 14 15 16 17 18 19\n",
      "17 18 19 20 21 22 23   21 22 23 24 25 26 27   20 21 22 23 24 25 26\n",
      "24 25 26 27 28 29 30   28 29                  27 28 29 30 31\n",
      "31\n",
      "\n",
      "       April                   May                    June\n",
      "Mo Tu We Th Fr Sa Su   Mo Tu We Th Fr Sa Su   Mo Tu We Th Fr Sa Su\n",
      "                1  2    1  2  3  4  5  6  7             1  2  3  4\n",
      " 3  4  5  6  7  8  9    8  9 10 11 12 13 14    5  6  7  8  9 10 11\n",
      "10 11 12 13 14 15 16   15 16 17 18 19 20 21   12 13 14 15 16 17 18\n",
      "17 18 19 20 21 22 23   22 23 24 25 26 27 28   19 20 21 22 23 24 25\n",
      "24 25 26 27 28 29 30   29 30 31               26 27 28 29 30\n",
      "\n",
      "        July                  August               September\n",
      "Mo Tu We Th Fr Sa Su   Mo Tu We Th Fr Sa Su   Mo Tu We Th Fr Sa Su\n",
      "                1  2       1  2  3  4  5  6                1  2  3\n",
      " 3  4  5  6  7  8  9    7  8  9 10 11 12 13    4  5  6  7  8  9 10\n",
      "10 11 12 13 14 15 16   14 15 16 17 18 19 20   11 12 13 14 15 16 17\n",
      "17 18 19 20 21 22 23   21 22 23 24 25 26 27   18 19 20 21 22 23 24\n",
      "24 25 26 27 28 29 30   28 29 30 31            25 26 27 28 29 30\n",
      "31\n",
      "\n",
      "      October                November               December\n",
      "Mo Tu We Th Fr Sa Su   Mo Tu We Th Fr Sa Su   Mo Tu We Th Fr Sa Su\n",
      "                   1          1  2  3  4  5                1  2  3\n",
      " 2  3  4  5  6  7  8    6  7  8  9 10 11 12    4  5  6  7  8  9 10\n",
      " 9 10 11 12 13 14 15   13 14 15 16 17 18 19   11 12 13 14 15 16 17\n",
      "16 17 18 19 20 21 22   20 21 22 23 24 25 26   18 19 20 21 22 23 24\n",
      "23 24 25 26 27 28 29   27 28 29 30            25 26 27 28 29 30 31\n",
      "30 31\n",
      "\n"
     ]
    }
   ],
   "source": [
    "print(calendar.calendar(2000,c=3,m=3))"
   ]
  },
  {
   "cell_type": "code",
   "execution_count": 24,
   "metadata": {},
   "outputs": [
    {
     "data": {
      "text/plain": [
       "False"
      ]
     },
     "execution_count": 24,
     "metadata": {},
     "output_type": "execute_result"
    }
   ],
   "source": [
    "calendar.weekday(2021,6,16)\n",
    "calendar.isleap(2022)"
   ]
  },
  {
   "cell_type": "code",
   "execution_count": 40,
   "metadata": {},
   "outputs": [
    {
     "name": "stdout",
     "output_type": "stream",
     "text": [
      "         *\n",
      "        ***\n",
      "       *****\n",
      "      *******\n",
      "     *********\n",
      "    ***********\n",
      "   *************\n",
      "  ***************\n",
      " *****************\n",
      "*******************\n",
      " *****************\n",
      "  ***************\n",
      "   *************\n",
      "    ***********\n",
      "     *********\n",
      "      *******\n",
      "       *****\n",
      "        ***\n",
      "         *\n"
     ]
    }
   ],
   "source": [
    "def pyramid(rows):\n",
    "    for i in range(rows):\n",
    "        print(' '*(rows-i-1)+\"*\"*(2*i+1))\n",
    "    for j in range(rows-1,0,-1):\n",
    "        print(\" \"*(rows-j)+\"*\"*(2*j-1))\n",
    "\n",
    "pyramid(10)"
   ]
  },
  {
   "cell_type": "code",
   "execution_count": null,
   "metadata": {},
   "outputs": [],
   "source": []
  },
  {
   "cell_type": "code",
   "execution_count": null,
   "metadata": {},
   "outputs": [],
   "source": []
  }
 ],
 "metadata": {
  "kernelspec": {
   "display_name": "Python 3",
   "language": "python",
   "name": "python3"
  },
  "language_info": {
   "codemirror_mode": {
    "name": "ipython",
    "version": 3
   },
   "file_extension": ".py",
   "mimetype": "text/x-python",
   "name": "python",
   "nbconvert_exporter": "python",
   "pygments_lexer": "ipython3",
   "version": "3.8.5"
  }
 },
 "nbformat": 4,
 "nbformat_minor": 4
}
