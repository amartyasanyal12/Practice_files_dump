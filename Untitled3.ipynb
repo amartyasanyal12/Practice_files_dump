{
 "cells": [
  {
   "cell_type": "code",
   "execution_count": 19,
   "metadata": {},
   "outputs": [
    {
     "name": "stdout",
     "output_type": "stream",
     "text": [
      "0.1 0.30000000000000004 0.5 0.7 0.8999999999999999 "
     ]
    }
   ],
   "source": [
    "#range doesnt support float\n",
    "def frange(start,stop,step):\n",
    "    i=start\n",
    "    while i<stop:\n",
    "        yield i #return doesnt work for float\n",
    "        i+=step\n",
    "        \n",
    "for i in frange(0.1,1.0,0.2):\n",
    "    print(i, end=\" \")\n",
    "\n"
   ]
  },
  {
   "cell_type": "code",
   "execution_count": null,
   "metadata": {},
   "outputs": [],
   "source": []
  },
  {
   "cell_type": "code",
   "execution_count": 30,
   "metadata": {},
   "outputs": [
    {
     "name": "stdout",
     "output_type": "stream",
     "text": [
      "4\n"
     ]
    }
   ],
   "source": [
    "#updating global variables\n",
    "var=3\n",
    "def fun1():\n",
    "    global var\n",
    "    var=var+1\n",
    "    print(var)\n",
    "   \n",
    "fun1()"
   ]
  },
  {
   "cell_type": "code",
   "execution_count": 40,
   "metadata": {},
   "outputs": [
    {
     "data": {
      "text/plain": [
       "8.0"
      ]
     },
     "execution_count": 40,
     "metadata": {},
     "output_type": "execute_result"
    }
   ],
   "source": [
    "import math\n",
    "math.modf(12.9991)\n",
    "math.pow(2,3)"
   ]
  },
  {
   "cell_type": "code",
   "execution_count": 41,
   "metadata": {},
   "outputs": [
    {
     "name": "stdout",
     "output_type": "stream",
     "text": [
      "pygame 2.0.1 (SDL 2.0.14, Python 3.8.5)\n",
      "Hello from the pygame community. https://www.pygame.org/contribute.html\n"
     ]
    }
   ],
   "source": [
    "import pygame"
   ]
  },
  {
   "cell_type": "code",
   "execution_count": null,
   "metadata": {},
   "outputs": [],
   "source": [
    "#creating acronyms from user input\n",
    "n=int(input(\"Enter the number of words you want to use for getting acronyms: \\n\"))\n",
    "j=0\n",
    "while(j<n):\n",
    "    user_input=str(input(\"Enter a phrase for acronym: \\n\"))\n",
    "    a=\" \"\n",
    "    text=user_input.split()\n",
    "    for i in text:\n",
    "        a=a+str(i[0]).upper()\n",
    "    print(a)\n",
    "    j+=1"
   ]
  },
  {
   "cell_type": "code",
   "execution_count": null,
   "metadata": {},
   "outputs": [],
   "source": []
  },
  {
   "cell_type": "code",
   "execution_count": 6,
   "metadata": {},
   "outputs": [
    {
     "name": "stdout",
     "output_type": "stream",
     "text": [
      "Enter what hour you want alarm to be 00\n",
      "Enter what minute you want alarm to be 36\n",
      "Enter AM/PM for the hour mark AM\n",
      "Waiting for alarm to start @ 0 36 AM\n",
      "Time to wake up\n"
     ]
    }
   ],
   "source": [
    "#alarm\n",
    "import datetime\n",
    "import winsound\n",
    "alarmH=int(input(\"Enter what hour you want alarm to be \"))\n",
    "alarmM=int(input(\"Enter what minute you want alarm to be \"))\n",
    "ampm=str(input(\"Enter AM/PM for the hour mark \"))\n",
    "print(\"Waiting for alarm to start @\", alarmH, alarmM , ampm )\n",
    "if (ampm=='PM'):\n",
    "    alarmH+=12\n",
    "elif (ampm=='AM'):\n",
    "    alarmH=alarmH\n",
    "    \n",
    "    while True:\n",
    "        if (alarmH==datetime.datetime.now().hour and alarmM==datetime.datetime.now().minute):\n",
    "            print(\"Time to wake up\")\n",
    "            winsound.Beep(2500,2000)\n",
    "            break"
   ]
  },
  {
   "cell_type": "code",
   "execution_count": 29,
   "metadata": {},
   "outputs": [
    {
     "name": "stdout",
     "output_type": "stream",
     "text": [
      "enter the number of rows you want to iterate:10\n",
      "1 \n",
      "2 11 \n",
      "3 12 20 \n",
      "4 13 21 28 \n",
      "5 14 22 29 35 \n",
      "6 15 23 30 36 41 \n",
      "7 16 24 31 37 42 46 \n",
      "8 17 25 32 38 43 47 50 \n",
      "9 18 26 33 39 44 48 51 53 \n",
      "10 19 27 34 40 45 49 52 54 55 \n"
     ]
    }
   ],
   "source": [
    "n=int(input(\"enter the number of rows you want to iterate:\"))\n",
    "for row in range(n):\n",
    "    num=row+1\n",
    "    dec=n-1\n",
    "    for j in range(row+1):\n",
    "        print(num, end=\" \")\n",
    "        num=num+dec\n",
    "        dec=dec-1\n",
    "    print()"
   ]
  },
  {
   "cell_type": "code",
   "execution_count": 9,
   "metadata": {},
   "outputs": [
    {
     "name": "stdout",
     "output_type": "stream",
     "text": [
      "Enter the number which you want to print : \n",
      "295\n",
      "Not an armstrong number\n"
     ]
    }
   ],
   "source": [
    "#armstrong\n",
    "import copy\n",
    "n=int(input(\"Enter the number which you want to print : \\n\"))\n",
    "order=len(str(n))\n",
    "sum1=0\n",
    "c1=copy.copy(n)\n",
    "while (n!=0):\n",
    "    digit=n%10\n",
    "    sum1+=(digit**order)\n",
    "    n=n//10\n",
    "if sum1==c1:\n",
    "     print(\"Armstrong number\")\n",
    "else:\n",
    "    print(\"Not an armstrong number\")"
   ]
  },
  {
   "cell_type": "code",
   "execution_count": 32,
   "metadata": {},
   "outputs": [
    {
     "name": "stdout",
     "output_type": "stream",
     "text": [
      "5\n",
      "1 \n",
      "1 2 \n",
      "1 2 3 \n",
      "1 2 3 4 \n",
      "1 2 3 4 5 \n"
     ]
    }
   ],
   "source": [
    "#patterns\n",
    "n=int(input())\n",
    "for i in range(n):\n",
    "    for j in range(i+1):\n",
    "        print(j+1,end=\" \")\n",
    "    print()"
   ]
  },
  {
   "cell_type": "code",
   "execution_count": 35,
   "metadata": {},
   "outputs": [
    {
     "name": "stdout",
     "output_type": "stream",
     "text": [
      "abcd\n",
      "a ab abc abcd \n",
      "b bc bcd \n",
      "c cd \n",
      "d \n"
     ]
    }
   ],
   "source": [
    "str1=input()\n",
    "for i in range(len(str1)):\n",
    "    for j in range(i+1,len(str1)+1):\n",
    "        z=str1[i:j]\n",
    "        print(z, end=\" \")\n",
    "    print()"
   ]
  },
  {
   "cell_type": "code",
   "execution_count": 3,
   "metadata": {},
   "outputs": [
    {
     "name": "stdout",
     "output_type": "stream",
     "text": [
      "Enter a stringstring\n",
      "reversed string is  gnirts\n"
     ]
    }
   ],
   "source": [
    "#reversing a string\n",
    "str1=input(\"Enter a string\")\n",
    "reverse=\"\"\n",
    "for i in str1:\n",
    "    reverse=i+reverse\n",
    "print(\"reversed string is \", reverse)"
   ]
  },
  {
   "cell_type": "code",
   "execution_count": 3,
   "metadata": {},
   "outputs": [
    {
     "name": "stdout",
     "output_type": "stream",
     "text": [
      "Enter the number of rows you want? \t5\n",
      "1 \n",
      "2 6 \n",
      "3 7 10 \n",
      "4 8 11 13 \n",
      "5 9 12 14 15 \n"
     ]
    }
   ],
   "source": [
    "n=int(input(\"Enter the number of rows you want? \\t\"))\n",
    "for row in range(n):\n",
    "    num=row+1\n",
    "    dec=n-1\n",
    "    for j in range(row+1):\n",
    "        print(num, end=\" \")\n",
    "        num=num+dec\n",
    "        dec=dec-1\n",
    "    print()"
   ]
  },
  {
   "cell_type": "code",
   "execution_count": 12,
   "metadata": {},
   "outputs": [
    {
     "name": "stdout",
     "output_type": "stream",
     "text": [
      "Enter a string \tabcd\n",
      "a ab abc abcd \n",
      "b bc bcd \n",
      "c cd \n",
      "d \n",
      "Enter a string \tjhkl\n",
      "j jh jhk jhkl \n",
      "h hk hkl \n",
      "k kl \n",
      "l \n",
      "Enter a string \tmnop\n",
      "m mn mno mnop \n",
      "n no nop \n",
      "o op \n",
      "p \n",
      "Enter a string \tfuckboy\n",
      "f fu fuc fuck fuckb fuckbo fuckboy \n",
      "u uc uck uckb uckbo uckboy \n",
      "c ck ckb ckbo ckboy \n",
      "k kb kbo kboy \n",
      "b bo boy \n",
      "o oy \n",
      "y \n",
      "Enter a string \tkaua\n",
      "k ka kau kaua \n",
      "a au aua \n",
      "u ua \n",
      "a \n"
     ]
    }
   ],
   "source": [
    "\n",
    "def func1(str1):\n",
    "    d=0\n",
    "    while (d<5):\n",
    "        c=input(\"Enter a string \\t\")\n",
    "        for i in range(len(c)):\n",
    "            for j in range(i+1, len(c)+1):\n",
    "                z=c[i:j]\n",
    "                print(z, end=\" \")\n",
    "            print()\n",
    "        d+=1\n",
    "    \n",
    "func1(c)"
   ]
  },
  {
   "cell_type": "code",
   "execution_count": 15,
   "metadata": {},
   "outputs": [
    {
     "name": "stdout",
     "output_type": "stream",
     "text": [
      "Enter the Library Portal; Let us know what you want to do2\n",
      "We are uploading your file please wait for sometime \n",
      "\n",
      " The name of the book is,Hunger Games, The name of the author is, Silver Collins, The book is , 2 ,years old[datetime.datetime(2021, 6, 13, 20, 53, 14, 263891)]\n",
      " The name of the book is,YY, The name of the author is, YY1, The book is , 2 ,years old[datetime.datetime(2021, 6, 13, 20, 54, 12, 589552)]\n",
      " 1The name of the book is,KK, The name of the author is, JJ, The book is , 1 ,years old[datetime.datetime(2021, 6, 13, 21, 1, 55, 934863)]\n",
      " \n"
     ]
    }
   ],
   "source": [
    "#online library\n",
    "import time\n",
    "import datetime\n",
    "def getdate():\n",
    "    return datetime.datetime.now()\n",
    "\n",
    "def lendbook(C):\n",
    "    z2=\"Y\"\n",
    "    book1=input(\"Do you want to lend a book to the Library? [Y/N] \\t\")\n",
    "    count=1\n",
    "    while True:\n",
    "        if book1==\"Y\": \n",
    "            print(\"Thank you for your donation, please wait for some time until we start the system\")\n",
    "            time.sleep(5)\n",
    "            d1=input(\"Enter the Name of the book \\t\")\n",
    "            d2=input(\"Enter the author name \\t\")\n",
    "            d3=int(input(\"How old is this book\"))\n",
    "            with open (\"Library Portal1.txt\", \"a\") as op:\n",
    "                op.write(f\"{str(count)}\">>\" The name of the book is,{d1}, The name of the author is, {d2}, The book is , {d3} ,years old\" +str([getdate()])+\"\\n\")\n",
    "                count+=1\n",
    "            z=input(\"Do you want to add another book, [Y/N] \\t\")\n",
    "            if z==\"Y\":\n",
    "                z2=\"Y\"\n",
    "            else:\n",
    "                print(\"Visit again!\")\n",
    "                break\n",
    "\n",
    "        elif book1==\"N\":\n",
    "            print(\"Okay! another time\")\n",
    "            break\n",
    "\n",
    "def retrieve(c):\n",
    "    print(\"We are uploading your file please wait for sometime \")\n",
    "    time.sleep(5)\n",
    "    with open (\"Library portal1.txt\",\"rt\") as op:\n",
    "        for i in op:\n",
    "            print(i, end=\" \")\n",
    "        print()\n",
    "    \n",
    "        \n",
    "n=input(\"Enter the Library Portal; Let us know what you want to do\")\n",
    "if n==\"1\":\n",
    "    lendbook(n)\n",
    "else:\n",
    "    retrieve(n)"
   ]
  },
  {
   "cell_type": "code",
   "execution_count": 69,
   "metadata": {},
   "outputs": [
    {
     "name": "stdout",
     "output_type": "stream",
     "text": [
      "1: Round\n",
      "Enter b/w 1 to 6 \t3\n",
      "Player 1 rolls: 3\n",
      "Player 2 rolls: 1\n",
      "2: Round\n",
      "Enter b/w 1 to 6 \t5\n",
      "Player 1 rolls: 5\n",
      "Player 2 rolls: 1\n",
      "3: Round\n",
      "Enter b/w 1 to 6 \t1\n",
      "Player 1 rolls: 1\n",
      "Player 2 rolls: 5\n",
      "4: Round\n",
      "Enter b/w 1 to 6 \t6\n",
      "Player 1 rolls: 6\n",
      "Player 2 rolls: 5\n",
      "-----FINAL RESULT IS-----\n",
      "Player 1 wins overall with: 3\n"
     ]
    }
   ],
   "source": [
    "#dice roll game\n",
    "import random\n",
    "\n",
    "def dice_gen():\n",
    "    dice_result=random.randint(1,6)\n",
    "    return(dice_result)\n",
    "\n",
    "if __name__==\"__main__\":\n",
    "    player_1=0\n",
    "    count_player1=0\n",
    "    count_player2=0\n",
    "    player_2=0\n",
    "    rounds=1\n",
    "    while rounds != 20:\n",
    "        print(str(rounds)+\": Round\")\n",
    "        player_1=dice_gen()\n",
    "        player_2=dice_gen()\n",
    "        print(\"Player 1 rolls:\",str(player_1))\n",
    "        print(\"Player 2 rolls:\",str(player_2))\n",
    "        \n",
    "        if player_1==player_2:\n",
    "            count_player1+=0\n",
    "            count_player2+=0\n",
    "        elif player_1>player_2:\n",
    "            count_player1+=1\n",
    "        else:\n",
    "            count_player2+=1\n",
    "        rounds+=1\n",
    "\n",
    "    print(\"-----FINAL RESULT IS-----\")\n",
    "    if count_player1>count_player2:\n",
    "        print(\"Player 1 wins overall with: \"+str(count_player1))\n",
    "    elif count_player2>count_player1:\n",
    "        print(\"Player 2 wins overall with: \"+str(count_player2))\n",
    "    else:\n",
    "        print(\"Draw overall\", str(count_player1),\"-\",str(count_player2))"
   ]
  },
  {
   "cell_type": "code",
   "execution_count": 83,
   "metadata": {},
   "outputs": [
    {
     "name": "stdout",
     "output_type": "stream",
     "text": [
      "Enter till what you want to play3\n",
      "Get Ready to Roll\n",
      "Your number is: 3\n",
      "Get Ready to Roll\n",
      "Your number is: 6\n",
      "Get Ready to Roll\n",
      "Your number is: 2\n",
      "Your total is:  11\n",
      "Now is the bot's turn:\n",
      "The bot got: 2\n",
      "Now is the bot's turn:\n",
      "The bot got: 1\n",
      "Now is the bot's turn:\n",
      "The bot got: 4\n",
      "The bot's total is 7\n",
      "You won the game by:  4\n"
     ]
    }
   ],
   "source": [
    "import time as t\n",
    "import random\n",
    "def action1(choice):\n",
    "    sum_human=0\n",
    "    sum_bot=0\n",
    "    for i in range(0,choice):\n",
    "        print(\"Get Ready to Roll\")\n",
    "        t.sleep(3)\n",
    "        human=random.randint(1,6)\n",
    "        print(\"Your number is:\",human)\n",
    "        sum_human+=human\n",
    "    print(\"Your total is: \",sum_human)\n",
    "    t.sleep(1)\n",
    "    for j in range(0,choice):\n",
    "        print(\"Now is the bot's turn:\")\n",
    "        t.sleep(3)\n",
    "        bot=random.randint(1,6)\n",
    "        print(\"The bot got:\",bot)\n",
    "        sum_bot+=bot\n",
    "    print(\"The bot's total is\", sum_bot)\n",
    "    t.sleep(1)\n",
    "    if sum_human==sum_bot:\n",
    "        print(\"The final result is a draw\")\n",
    "    elif sum_human>sum_bot:\n",
    "        print(\"You won the game by: \", sum_human-sum_bot)\n",
    "    else:\n",
    "        print(\"You lost the game by:\" ,sum_bot-sum_human)\n",
    "\n",
    "if __name__==\"__main__\":\n",
    "    die=0\n",
    "    while die==0:\n",
    "        choice=int(input(\"Enter till what you want to play\"))\n",
    "        if choice>0 and choice<4:\n",
    "            action1(choice)\n",
    "            break\n",
    "        else:\n",
    "            print(\"Thank you, try again!\")\n",
    "\n",
    "\n",
    "        \n",
    "    "
   ]
  },
  {
   "cell_type": "code",
   "execution_count": 10,
   "metadata": {},
   "outputs": [
    {
     "name": "stdout",
     "output_type": "stream",
     "text": [
      "Enter the number of times you want to play \t3\n",
      "Player 1 won\n",
      "Its a draw\n",
      "Player 1 won\n"
     ]
    }
   ],
   "source": [
    "import random\n",
    "def playbook(choice):\n",
    "    i=0\n",
    "    for i in range(choice):\n",
    "        ply1=random.randint(1,6)\n",
    "        ply2=random.randint(1,6)\n",
    "        if ply1>ply2:\n",
    "            print(\"Player 1 won\")\n",
    "            \n",
    "        elif ply2>ply1:\n",
    "            print(\"Player 2 won\")\n",
    "        else:\n",
    "            print(\"Its a draw\")\n",
    "        \n",
    "        i+=1\n",
    "if __name__==\"__main__\":\n",
    "    choice=int(input(\"Enter the number of times you want to play \\t\"))\n",
    "    die=0\n",
    "    while die==0:\n",
    "        if choice>0 and choice<4:\n",
    "            playbook(choice)\n",
    "            break\n",
    "        else:\n",
    "            print(\"Try again\")"
   ]
  },
  {
   "cell_type": "code",
   "execution_count": 5,
   "metadata": {},
   "outputs": [
    {
     "name": "stdout",
     "output_type": "stream",
     "text": [
      "This is a test\n",
      "Say hello to lru function\n",
      "Say hello to lru function\n",
      "This is the final statement excuted\n"
     ]
    }
   ],
   "source": [
    "#using lrucache, function catching\n",
    "\n",
    "from functools import lru_cache\n",
    "import time\n",
    "\n",
    "@lru_cache(maxsize=3)\n",
    "def a1(n):\n",
    "    time.sleep(n)\n",
    "    print(\"Say hello to lru function\")\n",
    "\n",
    "if __name__==\"__main__\":\n",
    "    print(\"This is a test\")\n",
    "    a1(3)\n",
    "    a1(2)\n",
    "    print(\"This is the final statement excuted\")\n",
    "\n"
   ]
  },
  {
   "cell_type": "code",
   "execution_count": 65,
   "metadata": {},
   "outputs": [
    {
     "name": "stdout",
     "output_type": "stream",
     "text": [
      "Enter your choice, do you want to add or open the file \topen\n",
      "I had Bananas for the first time at, 2021-06-22 18:06:17.344341 \n",
      "\n",
      "I had Fish for the first time at, 2021-06-22 18:06:40.802689 \n",
      "\n",
      "0 I had Chips for the first time at, 2021-06-22 23:34:18.029040 \n",
      "\n",
      "0 I had Karela for the first time at, 2021-06-22 23:34:43.574108 \n",
      "\n",
      "0 I had LAUKEY for the first time at, 2021-06-22 23:35:12.019152 \n",
      "\n"
     ]
    }
   ],
   "source": [
    "#basic add and retrieving file\n",
    "import datetime\n",
    "def addfile(user_input):\n",
    "    if user_input.lower()==\"add\":\n",
    "        n1=input(\"Enter what you had? \\t\")\n",
    "        with open (\"Test.txt\",\"a\") as op:\n",
    "            op.write(f\"{str(count)} I had {n1} for the first time at, {datetime.datetime.now()} \\n\")\n",
    "            return True\n",
    "def openfile(user_input):\n",
    "    if user_input.lower()==\"open\":\n",
    "        with open(\"Test.txt\",\"rt\") as op:\n",
    "            for i in op:\n",
    "                print(i)\n",
    "            return True\n",
    "\n",
    "if __name__==\"__main__\":\n",
    "    while True:\n",
    "        c=input(\"Enter your choice, do you want to add or open the file \\t\")\n",
    "        if addfile(c): \n",
    "            break\n",
    "        if openfile(c):\n",
    "            break\n",
    "            "
   ]
  },
  {
   "cell_type": "markdown",
   "metadata": {},
   "source": [
    " "
   ]
  },
  {
   "cell_type": "code",
   "execution_count": 51,
   "metadata": {},
   "outputs": [
    {
     "name": "stdout",
     "output_type": "stream",
     "text": [
      "Enter u'r number \t9\n",
      "not found\n",
      "Enter u'r number \t7\n",
      "Found at 7\n"
     ]
    }
   ],
   "source": [
    "#linear search\n",
    "pos=0\n",
    "def search(list1,n):\n",
    "    i=0\n",
    "    for i in range(len(list1)):\n",
    "        if list1[i]==n:\n",
    "            globals()['pos']=i\n",
    "            return True\n",
    "        i+=1\n",
    "    else:\n",
    "        return False\n",
    "        \n",
    "\n",
    "list1=[11,22,459,789,5,6,78,9]\n",
    "while(True):\n",
    "    n=int(input(\"Enter u'r number \\t\"))\n",
    "    if search(list1,n):\n",
    "        print(\"Found at\",pos)\n",
    "        break\n",
    "    else:\n",
    "        print(\"not found\")\n",
    "        continue"
   ]
  },
  {
   "cell_type": "code",
   "execution_count": 56,
   "metadata": {},
   "outputs": [
    {
     "name": "stdout",
     "output_type": "stream",
     "text": [
      "11\n",
      "not found\n"
     ]
    }
   ],
   "source": [
    "#binary search\n",
    "pos=0\n",
    "def search(list1,n):\n",
    "    l=0\n",
    "    u=len(list1)-1\n",
    "    while l<=u:\n",
    "        mid=(l+u)//2\n",
    "        \n",
    "        if list1[mid]==n:\n",
    "            globals()['pos']=mid\n",
    "            return True\n",
    "        else:\n",
    "            if list1[mid]<n:\n",
    "                l=mid+1\n",
    "            else:\n",
    "                u=mid-1\n",
    "    return False\n",
    "\n",
    "list1=[112,234,5,67,8,0,99,88,90]\n",
    "n=int(input())\n",
    "if search(list1,n):\n",
    "    print(\"Found at\",pos)\n",
    "else:\n",
    "    print(\"not found\")"
   ]
  },
  {
   "cell_type": "code",
   "execution_count": 1,
   "metadata": {},
   "outputs": [
    {
     "name": "stdout",
     "output_type": "stream",
     "text": [
      "[0, 12, 33, 44, 55, 67, 223]\n"
     ]
    }
   ],
   "source": [
    "#bubble sort\n",
    "def sort(nums):\n",
    "    for i in range(len(nums)-1,0,-1):\n",
    "        for j in range(i):\n",
    "            if nums[j]>nums[j+1]:\n",
    "                nums[j],nums[j+1]=nums[j+1],nums[j]\n",
    "                #temp=nums[j]\n",
    "                #nums[j]=nums[j+1]\n",
    "                #nums[j+1]=temp\n",
    "\n",
    "nums=[223,44,55,33,12,67,0]\n",
    "\n",
    "sort(nums)\n",
    "print(nums)"
   ]
  },
  {
   "cell_type": "code",
   "execution_count": 16,
   "metadata": {},
   "outputs": [
    {
     "name": "stdout",
     "output_type": "stream",
     "text": [
      "[2, 5, 6, 10, 11, 21, 22]\n"
     ]
    }
   ],
   "source": [
    "#selection sort\n",
    "def selection_sort(nums):\n",
    "    for i in range(len(nums)-1):\n",
    "        min_pos=i\n",
    "        for j in range(i,len(nums)):\n",
    "            if nums[j]<nums[min_pos]:\n",
    "                min_pos=j\n",
    "                \n",
    "        nums[i],nums[min_pos]=nums[min_pos],nums[i]\n",
    "\n",
    "nums=[11,22,21,5,6,2,10]\n",
    "selection_sort(nums)\n",
    "print(nums)"
   ]
  },
  {
   "cell_type": "code",
   "execution_count": 19,
   "metadata": {},
   "outputs": [
    {
     "name": "stdout",
     "output_type": "stream",
     "text": [
      "5\n"
     ]
    },
    {
     "data": {
      "text/plain": [
       "120"
      ]
     },
     "execution_count": 19,
     "metadata": {},
     "output_type": "execute_result"
    }
   ],
   "source": [
    "#recursive\n",
    "n=int(input())\n",
    "def update(n):\n",
    "    if n==0:\n",
    "        return 1\n",
    "    elif n==1:\n",
    "        return 1\n",
    "    else:\n",
    "        return (n*update(n-1))\n",
    "\n",
    "update(n)"
   ]
  },
  {
   "cell_type": "code",
   "execution_count": 19,
   "metadata": {},
   "outputs": [
    {
     "name": "stdout",
     "output_type": "stream",
     "text": [
      "_ _ _ _ _ _ _ Number of Allowed guesses left are 7, your next move \ta\n",
      "_ a _ a _ a _ Number of Allowed guesses left are 7, your next move \tb\n",
      "_ a _ a b a _ Number of Allowed guesses left are 7, your next move \tf\n",
      "_ a _ a b a _ Number of Allowed guesses left are 6, your next move \tr\n",
      "_ a r a b a _ Number of Allowed guesses left are 6, your next move \tk\n",
      "The word was Karabak\n"
     ]
    }
   ],
   "source": [
    "import random\n",
    "with open (\"Hangman1.txt\",\"r\") as f:\n",
    "    z=f.readlines()\n",
    "\n",
    "\n",
    "word=random.choice(z)[:-1]\n",
    "list1=[]\n",
    "guesses=7\n",
    "done=False\n",
    "\n",
    "while not done:\n",
    "    for letter in word.lower():\n",
    "        if letter in list1:\n",
    "            print(letter, end=\" \")\n",
    "        else:\n",
    "            print(\"_\", end=\" \")\n",
    "    \n",
    "    guess=input(f\"Number of Allowed guesses left are {guesses}, your next move \\t\")\n",
    "    list1.append(guess.lower())\n",
    "    if guess.lower() not in word.lower():\n",
    "        guesses-=1\n",
    "        if guesses==0:\n",
    "            break\n",
    "    done=True\n",
    "    for letter in word:\n",
    "        if letter.lower() not in list1:\n",
    "            done=False\n",
    "\n",
    "if done:\n",
    "    print(f\"The word was {word}\")\n",
    "else:\n",
    "    print(f\"Game over\")\n",
    "        "
   ]
  },
  {
   "cell_type": "code",
   "execution_count": 7,
   "metadata": {},
   "outputs": [
    {
     "name": "stdout",
     "output_type": "stream",
     "text": [
      "Enter the seconds you want to go for \t60\n",
      "blast off!\n"
     ]
    }
   ],
   "source": [
    "import time\n",
    "timer=int(input(\"Enter the seconds you want to go for \\t\"))\n",
    "while timer:\n",
    "    minutes=timer//60\n",
    "    seconds=timer%60\n",
    "    t='{:02d}:{:02d}'.format(minutes,seconds)\n",
    "    print(t, end=\"\\r\")\n",
    "    time.sleep(1)\n",
    "    timer-=1\n",
    "print(\"blast off!\")"
   ]
  },
  {
   "cell_type": "code",
   "execution_count": 10,
   "metadata": {},
   "outputs": [
    {
     "name": "stdout",
     "output_type": "stream",
     "text": [
      "The Pomodoro starts now\n",
      "02:53\r"
     ]
    },
    {
     "ename": "KeyboardInterrupt",
     "evalue": "",
     "output_type": "error",
     "traceback": [
      "\u001b[1;31m---------------------------------------------------------------------------\u001b[0m",
      "\u001b[1;31mKeyboardInterrupt\u001b[0m                         Traceback (most recent call last)",
      "\u001b[1;32m<ipython-input-10-ab973cf655ed>\u001b[0m in \u001b[0;36m<module>\u001b[1;34m\u001b[0m\n\u001b[0;32m      8\u001b[0m         \u001b[0mt\u001b[0m\u001b[1;33m=\u001b[0m\u001b[1;34m'{:02d}:{:02d}'\u001b[0m\u001b[1;33m.\u001b[0m\u001b[0mformat\u001b[0m\u001b[1;33m(\u001b[0m\u001b[0mminutes\u001b[0m\u001b[1;33m,\u001b[0m\u001b[0mseconds\u001b[0m\u001b[1;33m)\u001b[0m\u001b[1;33m\u001b[0m\u001b[1;33m\u001b[0m\u001b[0m\n\u001b[0;32m      9\u001b[0m         \u001b[0mprint\u001b[0m\u001b[1;33m(\u001b[0m\u001b[0mt\u001b[0m\u001b[1;33m,\u001b[0m \u001b[0mend\u001b[0m\u001b[1;33m=\u001b[0m\u001b[1;34m\"\\r\"\u001b[0m\u001b[1;33m)\u001b[0m\u001b[1;33m\u001b[0m\u001b[1;33m\u001b[0m\u001b[0m\n\u001b[1;32m---> 10\u001b[1;33m         \u001b[0mtime\u001b[0m\u001b[1;33m.\u001b[0m\u001b[0msleep\u001b[0m\u001b[1;33m(\u001b[0m\u001b[1;36m1\u001b[0m\u001b[1;33m)\u001b[0m\u001b[1;33m\u001b[0m\u001b[1;33m\u001b[0m\u001b[0m\n\u001b[0m\u001b[0;32m     11\u001b[0m         \u001b[0mtimer\u001b[0m\u001b[1;33m-=\u001b[0m\u001b[1;36m1\u001b[0m\u001b[1;33m\u001b[0m\u001b[1;33m\u001b[0m\u001b[0m\n\u001b[0;32m     12\u001b[0m     \u001b[0mprint\u001b[0m\u001b[1;33m(\u001b[0m\u001b[1;34m\"Break time\"\u001b[0m\u001b[1;33m)\u001b[0m\u001b[1;33m\u001b[0m\u001b[1;33m\u001b[0m\u001b[0m\n",
      "\u001b[1;31mKeyboardInterrupt\u001b[0m: "
     ]
    }
   ],
   "source": [
    "import time\n",
    "print(\"The Pomodoro starts now\")\n",
    "for i in range(2):\n",
    "    timer=3*60\n",
    "    while timer:\n",
    "        minutes=timer//60\n",
    "        seconds=timer%60\n",
    "        t='{:02d}:{:02d}'.format(minutes,seconds)\n",
    "        print(t, end=\"\\r\")\n",
    "        time.sleep(1)\n",
    "        timer-=1\n",
    "    print(\"Break time\")\n",
    "    timer=2*60\n",
    "    while timer:\n",
    "        minutes=timer//60\n",
    "        seconds=timer%60\n",
    "        t='{:02d}:{:02d}'.format(minutes,seconds)\n",
    "        print(t, end=\"\\r\")\n",
    "        time.sleep(1)\n",
    "        timer-=1\n",
    "    print(\"Work Time\")"
   ]
  },
  {
   "cell_type": "code",
   "execution_count": 2,
   "metadata": {},
   "outputs": [],
   "source": [
    "from tkinter import *\n",
    "from datetime import datetime\n",
    "\n",
    "root=Tk()\n",
    "root.title(\"Timer\")\n",
    "def update_time():\n",
    "    format1=\"%H:%M:%S\"\n",
    "    now=(datetime.now()).strftime(format1)\n",
    "    s2=\"19:30:00\"\n",
    "    string=datetime.strptime(s2,format1)-datetime.strptime(now,format1)\n",
    "    l.config(text=string)\n",
    "    l.after(1000,update_time)\n",
    "\n",
    "l=Label(root, font=('Apple',30),background='silver',foreground='black')\n",
    "l.pack(anchor='center')\n",
    "update_time()\n",
    "mainloop()"
   ]
  },
  {
   "cell_type": "code",
   "execution_count": 1,
   "metadata": {},
   "outputs": [],
   "source": [
    "#sort func\n",
    "d1={3:'e',2:'a',1:'c',5:'d',4:'b'}\n",
    "tuple1=((3,8),(2,9),(1,10),(4,7))\n",
    "list1=[7,5,6,3,4,21,1]"
   ]
  },
  {
   "cell_type": "code",
   "execution_count": 3,
   "metadata": {},
   "outputs": [
    {
     "data": {
      "text/plain": [
       "[21, 7, 6, 5, 4, 3, 1]"
      ]
     },
     "execution_count": 3,
     "metadata": {},
     "output_type": "execute_result"
    }
   ],
   "source": [
    "sorted(list1,reverse=True) #descending order"
   ]
  },
  {
   "cell_type": "code",
   "execution_count": 4,
   "metadata": {},
   "outputs": [
    {
     "data": {
      "text/plain": [
       "[(1, 10), (2, 9), (3, 8), (4, 7)]"
      ]
     },
     "execution_count": 4,
     "metadata": {},
     "output_type": "execute_result"
    }
   ],
   "source": [
    "sorted(tuple1)"
   ]
  },
  {
   "cell_type": "code",
   "execution_count": 8,
   "metadata": {},
   "outputs": [
    {
     "data": {
      "text/plain": [
       "[(1, 'c'), (2, 'a'), (3, 'e'), (4, 'b'), (5, 'd')]"
      ]
     },
     "execution_count": 8,
     "metadata": {},
     "output_type": "execute_result"
    }
   ],
   "source": [
    "sorted(d1.items())"
   ]
  },
  {
   "cell_type": "code",
   "execution_count": 9,
   "metadata": {},
   "outputs": [
    {
     "data": {
      "text/plain": [
       "[(2, 'a'), (4, 'b'), (1, 'c'), (5, 'd'), (3, 'e')]"
      ]
     },
     "execution_count": 9,
     "metadata": {},
     "output_type": "execute_result"
    }
   ],
   "source": [
    "sorted(d1.items(),key=lambda x:x[1])"
   ]
  },
  {
   "cell_type": "code",
   "execution_count": 15,
   "metadata": {},
   "outputs": [
    {
     "data": {
      "text/plain": [
       "[(4, 'a'), (1, 'b'), (3, 'f')]"
      ]
     },
     "execution_count": 15,
     "metadata": {},
     "output_type": "execute_result"
    }
   ],
   "source": [
    "tuple1=((1,\"b\"),(3,\"f\"),(4,\"a\"))\n",
    "def secondvalue(tuple1):\n",
    "    return tuple1[1]\n",
    "\n",
    "sorted(tuple1,key=secondvalue)"
   ]
  },
  {
   "cell_type": "code",
   "execution_count": 15,
   "metadata": {},
   "outputs": [
    {
     "name": "stdout",
     "output_type": "stream",
     "text": [
      "['$Recycle.Bin', '$WinREAgent', 'bootTel.dat', 'Documents and Settings', 'DumpStack.log.tmp', 'hiberfil.sys', 'hp', 'Intel', 'MSOCache', 'pagefile.sys', 'PerfLogs', 'Program Files', 'Program Files (x86)', 'ProgramData', 'Recovery', 'swapfile.sys', 'System Volume Information', 'system.sav', 'Temp', 'Users', 'Utilities', 'Windows']\n"
     ]
    }
   ],
   "source": [
    "print(os.listdir(\"C://\"))"
   ]
  },
  {
   "cell_type": "code",
   "execution_count": 17,
   "metadata": {},
   "outputs": [
    {
     "name": "stdout",
     "output_type": "stream",
     "text": [
      "C:\\Users\\sanyalam\\Anaconda3;C:\\Users\\sanyalam\\Anaconda3\\Library\\mingw-w64\\bin;C:\\Users\\sanyalam\\Anaconda3\\Library\\usr\\bin;C:\\Users\\sanyalam\\Anaconda3\\Library\\bin;C:\\Users\\sanyalam\\Anaconda3\\Scripts;C:\\Users\\sanyalam\\Anaconda3\\bin;C:\\Users\\sanyalam\\Anaconda3\\condabin;C:\\Users\\sanyalam\\Anaconda3;C:\\Users\\sanyalam\\Anaconda3\\Library\\mingw-w64\\bin;C:\\Users\\sanyalam\\Anaconda3\\Library\\usr\\bin;C:\\Users\\sanyalam\\Anaconda3\\Library\\bin;C:\\Users\\sanyalam\\Anaconda3\\Scripts;C:\\Program Files\\itacsvc;C:\\WINDOWS\\system32;C:\\WINDOWS;C:\\WINDOWS\\System32\\Wbem;C:\\WINDOWS\\System32\\WindowsPowerShell\\v1.0;C:\\WINDOWS\\System32\\OpenSSH;C:\\Program Files\\PuTTY;C:\\Program Files (x86)\\ACMEGuardian;C:\\Program Files (x86)\\Quarantine;C:\\WINDOWS\\system32;C:\\WINDOWS;C:\\WINDOWS\\System32\\Wbem;C:\\WINDOWS\\System32\\WindowsPowerShell\\v1.0;C:\\WINDOWS\\System32\\OpenSSH;C:\\Users\\sanyalam\\AppData\\Local\\Microsoft\\WindowsApps;.;C:\\Users\\sanyalam\\PyCharm Community Edition 2021.1.2\\bin;.;C:\\Users\\sanyalam\\AppData\\Local\\Programs\\Microsoft VS Code\\bin\n"
     ]
    }
   ],
   "source": [
    "print(os.environ.get('path'))"
   ]
  },
  {
   "cell_type": "code",
   "execution_count": 21,
   "metadata": {},
   "outputs": [
    {
     "name": "stdout",
     "output_type": "stream",
     "text": [
      "['__attrs__', '__bool__', '__class__', '__delattr__', '__dict__', '__dir__', '__doc__', '__enter__', '__eq__', '__exit__', '__format__', '__ge__', '__getattribute__', '__getstate__', '__gt__', '__hash__', '__init__', '__init_subclass__', '__iter__', '__le__', '__lt__', '__module__', '__ne__', '__new__', '__nonzero__', '__reduce__', '__reduce_ex__', '__repr__', '__setattr__', '__setstate__', '__sizeof__', '__str__', '__subclasshook__', '__weakref__', '_content', '_content_consumed', '_next', 'apparent_encoding', 'close', 'connection', 'content', 'cookies', 'elapsed', 'encoding', 'headers', 'history', 'is_permanent_redirect', 'is_redirect', 'iter_content', 'iter_lines', 'json', 'links', 'next', 'ok', 'raise_for_status', 'raw', 'reason', 'request', 'status_code', 'text', 'url']\n"
     ]
    }
   ],
   "source": [
    "import requests\n",
    "r=requests.get('https://xkcd.com/353/')\n",
    "print(dir(r))"
   ]
  },
  {
   "cell_type": "code",
   "execution_count": 26,
   "metadata": {},
   "outputs": [],
   "source": [
    "#print(r.text)"
   ]
  },
  {
   "cell_type": "code",
   "execution_count": 27,
   "metadata": {},
   "outputs": [],
   "source": [
    "with open('comic.png','wb') as f:\n",
    "    f.write(r.content)"
   ]
  },
  {
   "cell_type": "code",
   "execution_count": 28,
   "metadata": {},
   "outputs": [
    {
     "name": "stdout",
     "output_type": "stream",
     "text": [
      "200\n"
     ]
    }
   ],
   "source": [
    "print(r.status_code)"
   ]
  },
  {
   "cell_type": "code",
   "execution_count": 30,
   "metadata": {},
   "outputs": [
    {
     "name": "stdout",
     "output_type": "stream",
     "text": [
      "{'Connection': 'keep-alive', 'Content-Length': '90835', 'Server': 'nginx', 'Content-Type': 'image/png', 'Last-Modified': 'Mon, 01 Feb 2010 13:07:49 GMT', 'ETag': '\"4b66d225-162d3\"', 'Expires': 'Tue, 29 Jun 2021 12:58:14 GMT', 'Cache-Control': 'max-age=300', 'Accept-Ranges': 'bytes', 'Date': 'Tue, 29 Jun 2021 19:17:53 GMT', 'Via': '1.1 varnish', 'Age': '286', 'X-Served-By': 'cache-maa10235-MAA', 'X-Cache': 'HIT', 'X-Cache-Hits': '1', 'X-Timer': 'S1624994274.624213,VS0,VE1'}\n"
     ]
    }
   ],
   "source": [
    "print(r.headers)"
   ]
  },
  {
   "cell_type": "code",
   "execution_count": 31,
   "metadata": {},
   "outputs": [
    {
     "name": "stdout",
     "output_type": "stream",
     "text": [
      "{\n",
      "  \"args\": {\n",
      "    \"count\": \"25\", \n",
      "    \"page\": \"2\"\n",
      "  }, \n",
      "  \"headers\": {\n",
      "    \"Accept\": \"*/*\", \n",
      "    \"Accept-Encoding\": \"gzip, deflate\", \n",
      "    \"Host\": \"httpbin.org\", \n",
      "    \"User-Agent\": \"python-requests/2.24.0\", \n",
      "    \"X-Amzn-Trace-Id\": \"Root=1-60db73d7-0314770d6f0350f86b6a1d86\"\n",
      "  }, \n",
      "  \"origin\": \"202.142.105.160\", \n",
      "  \"url\": \"https://httpbin.org/get?page=2&count=25\"\n",
      "}\n",
      "\n"
     ]
    }
   ],
   "source": [
    "payload={'page':2,'count':25}\n",
    "r=requests.get('https://httpbin.org/get',params=payload)\n",
    "print(r.text)\n"
   ]
  },
  {
   "cell_type": "code",
   "execution_count": 32,
   "metadata": {},
   "outputs": [
    {
     "name": "stdout",
     "output_type": "stream",
     "text": [
      "https://httpbin.org/get?page=2&count=25\n"
     ]
    }
   ],
   "source": [
    "print(r.url)"
   ]
  },
  {
   "cell_type": "code",
   "execution_count": 41,
   "metadata": {},
   "outputs": [
    {
     "name": "stdout",
     "output_type": "stream",
     "text": [
      "{'args': {}, 'data': '', 'files': {}, 'form': {'password': 'testing1234', 'username': 'amartya'}, 'headers': {'Accept': '*/*', 'Accept-Encoding': 'gzip, deflate', 'Content-Length': '37', 'Content-Type': 'application/x-www-form-urlencoded', 'Host': 'httpbin.org', 'User-Agent': 'python-requests/2.24.0', 'X-Amzn-Trace-Id': 'Root=1-60db759b-3a6362431e3322fd16be27e3'}, 'json': None, 'origin': '202.142.105.160', 'url': 'https://httpbin.org/post'}\n"
     ]
    }
   ],
   "source": [
    "import requests\n",
    "payload={'username':'amartya','password':'testing1234'}\n",
    "r1=requests.post('https://httpbin.org/post',data=payload)\n",
    "print(r1.json())"
   ]
  },
  {
   "cell_type": "code",
   "execution_count": 43,
   "metadata": {},
   "outputs": [
    {
     "name": "stdout",
     "output_type": "stream",
     "text": [
      "{'password': 'testing1234', 'username': 'amartya'}\n"
     ]
    }
   ],
   "source": [
    "r1_dict=r1.json()\n",
    "print(r1_dict['form'])"
   ]
  },
  {
   "cell_type": "code",
   "execution_count": 6,
   "metadata": {},
   "outputs": [
    {
     "data": {
      "text/html": [
       "<div>\n",
       "<style scoped>\n",
       "    .dataframe tbody tr th:only-of-type {\n",
       "        vertical-align: middle;\n",
       "    }\n",
       "\n",
       "    .dataframe tbody tr th {\n",
       "        vertical-align: top;\n",
       "    }\n",
       "\n",
       "    .dataframe thead th {\n",
       "        text-align: right;\n",
       "    }\n",
       "</style>\n",
       "<table border=\"1\" class=\"dataframe\">\n",
       "  <thead>\n",
       "    <tr style=\"text-align: right;\">\n",
       "      <th></th>\n",
       "      <th>Name</th>\n",
       "      <th>Wins</th>\n",
       "    </tr>\n",
       "  </thead>\n",
       "  <tbody>\n",
       "    <tr>\n",
       "      <th>0</th>\n",
       "      <td>Alex</td>\n",
       "      <td>2</td>\n",
       "    </tr>\n",
       "    <tr>\n",
       "      <th>1</th>\n",
       "      <td>Jurgen</td>\n",
       "      <td>1</td>\n",
       "    </tr>\n",
       "    <tr>\n",
       "      <th>2</th>\n",
       "      <td>Jose</td>\n",
       "      <td>2</td>\n",
       "    </tr>\n",
       "  </tbody>\n",
       "</table>\n",
       "</div>"
      ],
      "text/plain": [
       "     Name  Wins\n",
       "0    Alex     2\n",
       "1  Jurgen     1\n",
       "2    Jose     2"
      ]
     },
     "execution_count": 6,
     "metadata": {},
     "output_type": "execute_result"
    }
   ],
   "source": [
    "import pandas as pd\n",
    "pd.DataFrame({\"Name\":[\"Alex\",\"Jurgen\",\"Jose\"], \"Wins\":[2,1,2]})"
   ]
  },
  {
   "cell_type": "code",
   "execution_count": 7,
   "metadata": {},
   "outputs": [
    {
     "name": "stdout",
     "output_type": "stream",
     "text": [
      "[ 1  2  3  4  5  6  7  8  9 10]\n",
      "[ 2  4  6  8 10 12 14 16 18 20]\n"
     ]
    }
   ],
   "source": [
    "from matplotlib import pyplot as plt\n",
    "import numpy as np\n",
    "x=np.arange(1,11)\n",
    "y=2*x\n",
    "print(x)\n",
    "print(y)"
   ]
  },
  {
   "cell_type": "code",
   "execution_count": 8,
   "metadata": {},
   "outputs": [
    {
     "data": {
      "image/png": "[encoded data removed]",
      "text/plain": [
       "<Figure size 432x288 with 1 Axes>"
      ]
     },
     "metadata": {
      "needs_background": "light"
     },
     "output_type": "display_data"
    }
   ],
   "source": [
    "plt.plot(x,y)\n",
    "plt.show()"
   ]
  },
  {
   "cell_type": "code",
   "execution_count": 20,
   "metadata": {},
   "outputs": [
    {
     "name": "stdout",
     "output_type": "stream",
     "text": [
      "Enter amount to see conversion:\n",
      "100\n",
      "Enter the name of currency you want to convert to? available options. \n",
      "\n",
      "Argentine Peso\n",
      "Australian Dollar\n",
      "Bahraini Dinar\n",
      "Botswana Pula\n",
      "Brazilian Real\n",
      "British Pound\n",
      "Bruneian Dollar\n",
      "Bulgarian Lev\n",
      "Canadian Dollar\n",
      "Chilean Peso\n",
      "Chinese Yuan Renminbi\n",
      "Colombian Peso\n",
      "Croatian Kuna\n",
      "Czech Koruna\n",
      "Danish Krone\n",
      "Emirati Dirham\n",
      "Euro\n",
      "Hong Kong Dollar\n",
      "Hungarian Forint\n",
      "Icelandic Krona\n",
      "Indonesian Rupiah\n",
      "Iranian Rial\n",
      "Israeli Shekel\n",
      "Japanese Yen\n",
      "Kazakhstani Tenge\n",
      "Kuwaiti Dinar\n",
      "Libyan Dinar\n",
      "Malaysian Ringgit\n",
      "Mauritian Rupee\n",
      "Mexican Peso\n",
      "Nepalese Rupee\n",
      "New Zealand Dollar\n",
      "Norwegian Krone\n",
      "Omani Rial\n",
      "Pakistani Rupee\n",
      "Philippine Peso\n",
      "Polish Zloty\n",
      "Qatari Riyal\n",
      "Romanian New Leu\n",
      "Russian Ruble\n",
      "Saudi Arabian Riyal\n",
      "Singapore Dollar\n",
      "South African Rand\n",
      "South Korean Won\n",
      "Sri Lankan Rupee\n",
      "Swedish Krona\n",
      "Swiss Franc\n",
      "Taiwan New Dollar\n",
      "Thai Baht\n",
      "Trinidadian Dollar\n",
      "Turkish Lira\n",
      "US Dollar\n",
      "Venezuelan Bolivar\n",
      "[None, None, None, None, None, None, None, None, None, None, None, None, None, None, None, None, None, None, None, None, None, None, None, None, None, None, None, None, None, None, None, None, None, None, None, None, None, None, None, None, None, None, None, None, None, None, None, None, None, None, None, None, None]\n",
      "Please enter one of these values \n",
      "Argentine Peso\n",
      "100 INR is equal to 128.821 Argentine Peso\n"
     ]
    }
   ],
   "source": [
    "with open (\"currencydata.txt\") as f:\n",
    "    lines=f.readlines()\n",
    "\n",
    "CurrencyDict={}\n",
    "\n",
    "for line in lines:\n",
    "    parsed=line.split(\"\\t\")\n",
    "    CurrencyDict[parsed[0]]=parsed[1]\n",
    "    \n",
    "amount=int(input(\"Enter amount to see conversion:\\n\"))\n",
    "print(\"Enter the name of currency you want to convert to? available options. \\n\")\n",
    "print([print(item) for item in CurrencyDict.keys()])\n",
    "currency=input(\"Please enter one of these values \\n\")\n",
    "print(f\"{amount} INR is equal to {amount * float(CurrencyDict[currency])} {currency}\")"
   ]
  },
  {
   "cell_type": "code",
   "execution_count": 12,
   "metadata": {},
   "outputs": [
    {
     "name": "stdout",
     "output_type": "stream",
     "text": [
      "[{'source': {'id': None, 'name': 'Livemint'}, 'author': 'Aparna Banerjea', 'title': 'HCL Tech Q1 results: Net profit rises 9% to ₹3,213 cr, announces dividend of ₹6/share - Mint', 'description': \"HCL Tech's consolidated revenue from operations came at  ₹20,068 crore as against  ₹17,842 crore in the corresponding quarter last year\", 'url': 'https://www.livemint.com/companies/company-results/hcl-tech-q1-results-net-profit-rises-9-to-rs-3-213-cr-announces-dividend-of-rs-6-11626696192301.html', 'urlToImage': 'https://images.livemint.com/img/2021/07/19/600x338/HCl_1626696689002.JPG', 'publishedAt': '2021-07-19T12:14:07Z', 'content': 'HCL Technologies on Monday reported a 9.4% rise in consolidated net profit at 3,213 crore for the quarter ended 30 June, 2021. The IT services firm had reported net profit of 2,935 crore in the year-… [+1981 chars]'}, {'source': {'id': None, 'name': 'Moneycontrol'}, 'author': None, 'title': 'Technical View: Nifty forms Doji pattern, experts say traders can go short below 15,700 - Moneycontrol.com', 'description': 'Intraday traders with a high-risk appetite can go short below 15,700 and look for a modest target of 15,630 by placing a stop above intraday high, Mazhar Mohammad of Chartviewindia.in has said', 'url': 'https://www.moneycontrol.com/news/business/markets/technical-view-nifty-forms-doji-pattern-experts-say-traders-can-go-short-below-15700-7192531.html', 'urlToImage': 'https://images.moneycontrol.com/static-mcnews/2021/07/shutterstock_1151323274-770x433.jpg', 'publishedAt': '2021-07-19T11:54:25Z', 'content': 'The bears were in control of the Nifty50 and closed a percent lower on July 19, due to selling in banking &amp; financials, auto, metals, and select IT stocks.\\r\\nThe index formed a Doji pattern on the… [+3224 chars]'}, {'source': {'id': None, 'name': 'Moneycontrol'}, 'author': None, 'title': 'Clean Science & Technology stock ends 76% higher on listing day; time to book profits? - Moneycontrol.com', 'description': \"Despite the better-than-expected listing gains, experts advise remaining invested in the stock for the long-term given the company's strong financials and fundamentals, international presence, and leading position in several critical products.\", 'url': 'https://www.moneycontrol.com/news/business/ipo/clean-science-time-to-book-profits-7192321.html', 'urlToImage': 'https://images.moneycontrol.com/static-mcnews/2018/02/Budget-2018_chemicals2-770x433.jpg', 'publishedAt': '2021-07-19T10:49:45Z', 'content': 'Clean Science &amp; Technology\\xa0made a strong debut on bourses, opening at a\\xa0massive 98.3 percent\\xa0premium over its issue price. On NSE, the scrip got listed at Rs 1,755, up 95 percent. This was ahead … [+2645 chars]'}, {'source': {'id': None, 'name': 'The Indian Express'}, 'author': 'Express Web Desk', 'title': '13 years after Singur fiasco, Bengal minister Partha Chatterjee says Tatas ‘most welcome’ - The Indian Express', 'description': 'In 2006, the Left Front government acquired 997.11 acres in Singur along the National Highway 2 and handed it over to Tata Motors. Mamata Banerjee, then in the opposition, called a 26-day hunger strike demanding the return of 347 acres of farmland that was \"f…', 'url': 'https://indianexpress.com/article/india/13-years-after-singur-fiasco-bengal-minister-says-tatas-most-welcome-7411990/', 'urlToImage': 'https://images.indianexpress.com/2021/07/Partha-Chatterjee.jpg', 'publishedAt': '2021-07-19T10:39:29Z', 'content': 'Thirteen years after the anti-land acquisition in Singur which was one of the driving forces that had catapulted the Mamata Banerjee-led TMC to power in West Bengal in 2011, the states Industry and I… [+6601 chars]'}, {'source': {'id': None, 'name': 'Rushlane.com'}, 'author': 'Arun Prakash', 'title': 'Tata Harrier Remap Increases Power To 225 BHP - Top Speed 220 Kmph - RushLane', 'description': 'A unit of Tata Harrier has undergone an ECU remapping which has led to increase in power and torque outputs.', 'url': 'https://www.rushlane.com/tata-harrier-engine-remap-increases-power-to-225-bhp-12407221.html', 'urlToImage': 'https://www.rushlane.com/wp-content/uploads/2021/07/tata-harrier-retune-engine-top-speed.jpg', 'publishedAt': '2021-07-19T10:34:52Z', 'content': 'Image – Nick Zeek\\r\\nTata Motors found a fresh breath of life in the mid-SUV segment when it launched Harrier you and a half years back. Designed as per the company’s latest Impact 2.0 design philosoph… [+2397 chars]'}, {'source': {'id': None, 'name': 'India Today'}, 'author': None, 'title': \"Blue Origin’s first human spaceflight on Tuesday: All you need to know about Bezos' trip to space - India Today\", 'description': \"Former Amazon chief Jeff Bezos will hitch a ride to space on his company Blue Origin's first crew launch on Tuesday. He will be accompanied by three other passengers, who include his brother, a former pilot and a paying customer.\", 'url': 'https://www.indiatoday.in/science/story/jeff-bezos-blue-origin-spaceflight-new-shepard-amazon-space-tourism-wally-funk-1829997-2021-07-19', 'urlToImage': 'https://akm-img-a-in.tosshub.com/indiatoday/images/story/202107/Jeff_Bezos_1-647x363.jpeg?fkPB_5fVinAMiVhC114pqQ.inj.MAuk8', 'publishedAt': '2021-07-19T10:33:57Z', 'content': None}, {'source': {'id': None, 'name': 'CNBCTV18'}, 'author': None, 'title': 'AGR Case HIGHLIGHTS: Supreme Court reserves order on Airtel, Voda-Idea plea seeking correction of errors in de - CNBCTV18', 'description': 'Supreme Court AGR case hearing HIGHLIGHTS The Supreme Court (SC) has reserved its order in the adjusted gross revenues (AGR) case wherein Vodafone Idea, Bharti Airtel and Tata Telecommunciations sought rectification in errors and commissions by the Department…', 'url': 'https://www.cnbctv18.com/legal/supreme-court-agr-dues-live-updates-bharti-airtel-vodafone-idea-share-price-telecom-debt-10032631.htm', 'urlToImage': 'https://images.cnbctv18.com/wp-content/uploads/2021/03/supreme-court-1019x573.jpg', 'publishedAt': '2021-07-19T10:33:00Z', 'content': \"That's all from CNBC-TV18.com's coverage of the Supreme Court hearing in the AGR case today.\\r\\nHere are the key highlights from the case today:\\r\\nAGR Case –Voda-Idea claims its about to go under, joins… [+1124 chars]\"}, {'source': {'id': None, 'name': 'Moneycontrol'}, 'author': None, 'title': \"Rajasthan govt's EV policy to hasten electrification, make e-bikes more affordable: Revolt Motors - Moneycontrol.com\", 'description': 'Rajasthan last week became the 16th state in the country to come out with an EV policy that will subsidise customers of electric vehicles by offering to reimburse SGST (State Goods and Service Tax) besides a one-time incentive based on the battery capacity.', 'url': 'https://www.moneycontrol.com/news/technology/auto/rajasthan-govts-ev-policy-to-hasten-electrification-make-e-bikes-more-affordable-revolt-motors-7191571.html', 'urlToImage': 'https://images.moneycontrol.com/static-mcnews/2019/06/Revolt-RV-400-770x433.jpg', 'publishedAt': '2021-07-19T10:18:28Z', 'content': 'Electric bike maker Revolt Motors has said Rajasthan governments EV policy announced last week, which offers subsidies up to Rs 20,000 on the purchase of such vehicles, among others, will hasten the … [+2277 chars]'}, {'source': {'id': None, 'name': 'Team-BHP'}, 'author': 'Tushar Kelshikar', 'title': 'Renault Duster to be discontinued in India - Team-BHP', 'description': 'It could be the end of the road for the Renault Duster in India, as a recent media report suggests that the French carmaker is planning to discontinue the model. The report states that the Duster is being taken off the shelves with the aim of reducing costs a…', 'url': 'https://www.team-bhp.com/news/renault-duster-be-discontinued-india', 'urlToImage': 'https://www.team-bhp.com/sites/default/files/styles/large/public/Screenshot 2021-07-19 154026.jpg', 'publishedAt': '2021-07-19T10:15:12Z', 'content': 'It could be the end of the road for the Renault Duster in India, as a recent media report suggests that the French carmaker is planning to discontinue the model.\\r\\nThe report states that the Duster is… [+972 chars]'}, {'source': {'id': 'the-times-of-india', 'name': 'The Times of India'}, 'author': 'TIMESOFINDIA.COM', 'title': 'Sensex dives 587 points as banking, financial shares plunge; Nifty settles at 15,752 - Times of India', 'description': 'India Business News: Equity indices plunged on Monday with the benchmark BSE sensex falling nearly 600 points dragged by banking and financial shares amid weak global cues', 'url': 'https://timesofindia.indiatimes.com/business/india-business/sensex-dives-587-points-as-banking-financial-shares-plunge-nifty-settles-at-15752/articleshow/84548606.cms', 'urlToImage': 'https://static.toiimg.com/thumb/msid-84548657,width-1070,height-580,imgsize-128551,resizemode-75,overlay-toi_sw,pt-32,y_pad-40/photo.jpg', 'publishedAt': '2021-07-19T10:12:00Z', 'content': 'Sensex dives 587 points as banking, financial shares plunge; Nifty settles at 15,752'}, {'source': {'id': None, 'name': 'Livemint'}, 'author': 'Aparna Banerjea', 'title': 'This company is offering BMW bikes, other perks to joinees as it ramps up hiring of techies - Mint', 'description': 'The company, that is planning to launch a slew of products in the merchant and consumer lending space, will be tripling the strength of its Technology Team and hiring 100 more members', 'url': 'https://www.livemint.com/companies/news/bharatpe-is-offering-bmw-bikes-other-perks-to-joinees-as-it-ramps-up-hiring-of-techies-11626687705936.html', 'urlToImage': 'https://images.livemint.com/img/2021/07/19/600x338/ada93a12-4ea3-11eb-a590-57d88199e656_1610880626623_1610880645769_1626688722397.jpg', 'publishedAt': '2021-07-19T09:54:05Z', 'content': 'In a bid to aggressively expand its \\'Tech Team\\' by almost three times by FY22, fintech start-up,BharatPe is offering several joining and referral perks to techies who would apply.\\r\\n\"The company, that… [+2614 chars]'}, {'source': {'id': None, 'name': 'Hindustan Times'}, 'author': 'HT Auto DeskHT Auto Desk', 'title': 'Suzuki to launch its first electric vehicle in India by 2025: Reports - HT Auto', 'description': 'Suzuki plans an all-electric compact model for the Indian customers in the next few years which is likely to be priced around ₹10 lakh after government subsidies.', 'url': 'https://auto.hindustantimes.com/auto/news/suzuki-to-launch-its-first-electric-vehicle-in-india-by-2025-reports-41626687289297.html', 'urlToImage': 'https://images.hindustantimes.com/auto/img/2021/07/19/600x338/2020-02-07T074948Z_2_LYNXMPEG160H8_RTROPTP_3_AUTOSHOW-TOKYO_1581066220929_1626687410538.JPG', 'publishedAt': '2021-07-19T09:54:03Z', 'content': 'Japanese carmaker Suzuki Motor Corp is likely to enter the electric vehicle market in India by 2025. The company is expected to launch its first model in the country, according to a report by Nikkei … [+2198 chars]'}, {'source': {'id': 'techcrunch', 'name': 'TechCrunch'}, 'author': 'Manish Singh', 'title': 'India’s GlobalBees raises $150 million to build Thrasio-like house of brands - TechCrunch', 'description': 'The universe of Indian firms attempting to replicate Thrasio’s success in the world’s second largest internet market just got bigger. Three-month-old GlobalBees said on Monday it has raised $150 million in a Series A financing round led by FirstCry. Lightspee…', 'url': 'http://techcrunch.com/2021/07/19/india-globalbees-raises-150-million-to-build-thrasio-like-house-of-brands/', 'urlToImage': 'https://techcrunch.com/wp-content/uploads/2021/07/globalbees-india-thrasio.jpeg?w=605', 'publishedAt': '2021-07-19T09:45:00Z', 'content': 'The universe of Indian firms attempting to replicate Thrasios success in the worlds second largest internet market just got bigger. Three-month-old GlobalBees said on Monday it has raised $150 millio… [+4010 chars]'}, {'source': {'id': 'google-news', 'name': 'Google News'}, 'author': None, 'title': \"American father-son duo handed jail sentences for aiding Ex-Nissan CEO's escape | Carlos Ghosn News - WION\", 'description': None, 'url': 'https://news.google.com/__i/rss/rd/articles/CBMiK2h0dHBzOi8vd3d3LnlvdXR1YmUuY29tL3dhdGNoP3Y9djNKM0NNQlFRSjjSAQA?oc=5', 'urlToImage': None, 'publishedAt': '2021-07-19T09:44:49Z', 'content': None}, {'source': {'id': None, 'name': 'BloombergQuint'}, 'author': 'Rishabh Bhatnagar', 'title': 'SEBI Investigating Some Adani Companies, Says Minister Of State For Finance - BloombergQuint', 'description': 'Certain Adani Group companies are being investigated over compliance with rules, says India minister.', 'url': 'https://www.bloombergquint.com/markets/sebi-investigating-some-adani-companies-says-minister-of-state-for-finance', 'urlToImage': 'https://gumlet.assettype.com/bloombergquint%2F2021-05%2F2b2bb276-1daf-41f6-b3ef-bd087db37799%2F232334058.jpg?rect=0%2C0%2C3000%2C1575&w=1200&auto=format%2Ccompress&ogImage=true', 'publishedAt': '2021-07-19T09:28:33Z', 'content': 'Certain Adani Group companies are being investigated by Securities and Exchange Board of India over compliance with rules, according to a written reply to a question in Parliament.\\r\\n\"The Directorate … [+873 chars]'}, {'source': {'id': 'the-times-of-india', 'name': 'The Times of India'}, 'author': 'PTI', 'title': \"Govt's excise collections on petrol, diesel jumps 88 pc to Rs 3.35 lakh cr - Economic Times\", 'description': 'Excise duty on petrol was hiked from Rs 19.98 per litre to Rs 32.9 last year to recoup gain arising from international oil prices plunging to multi-year low as pandemic gulped demand. The same on diesel was raised to Rs 31.8 from Rs 15.83 a litre, according t…', 'url': 'https://economictimes.indiatimes.com/news/economy/finance/govts-excise-collections-on-petrol-diesel-jumps-88-pc-to-rs-3-35-lakh-cr/articleshow/84547660.cms', 'urlToImage': 'https://img.etimg.com/thumb/msid-84547720,width-1070,height-580,imgsize-178602,overlay-economictimes/photo.jpg', 'publishedAt': '2021-07-19T09:24:00Z', 'content': \"The union government's tax collections on petrol and diesel jumped by 88 per cent to Rs 3.35 lakh crore in the year to March 31, after excise duty was raised to a record high, the Lok Sabha was infor… [+3101 chars]\"}, {'source': {'id': None, 'name': 'CarToq.com'}, 'author': 'Paarth Khatri', 'title': 'Mahindra teases Driver’s Drowsiness feature of XUV 700 - CarToq.com', 'description': 'Mahindra is gearing up for the launch of the XUV 700 SUV. Mahindra is expecting it to have the same success that XUV 500 had. The manufacturer has started teasing the features of the SUV. Now, there is a new video that Mahindra has shared and it shows us the …', 'url': 'https://www.cartoq.com/mahindra-teases-drivers-drowsiness-feature-of-xuv-700/', 'urlToImage': 'https://www.cartoq.com/wp-content/uploads/2021/07/Mahindra-XUV-700-driver-drowsiness-featured.jpg', 'publishedAt': '2021-07-19T09:20:21Z', 'content': 'Mahindra is gearing up for the launch of the XUV 700 SUV. Mahindra is expecting it to have the same success that XUV 500 had. The manufacturer has started teasing the features of the SUV. Now, there … [+2943 chars]'}, {'source': {'id': None, 'name': 'Livemint'}, 'author': 'Pallavi Pengonda', 'title': 'Ola’s e-scooter raises the heat for incumbents Bajaj, Hero - Mint', 'description': 'Much depends on the final price of the Ola scooter; and if that is high, then customer interest could wane', 'url': 'https://www.livemint.com/market/mark-to-market/ola-e-scooter-booking-terms-appeal-raising-competitive-heat-for-incumbents-11626415302996.html', 'urlToImage': 'https://images.livemint.com/img/2021/07/18/600x338/incharge-video-poster@3x_1619092807819_1626626389934.png', 'publishedAt': '2021-07-19T09:13:26Z', 'content': 'Ola Electric has commenced bookings for its electric scooter. Consumers can reserve an Ola Scooter for as low as 499. Whats more, one can modify the order or get a full refund on cancellation. In sho… [+2195 chars]'}, {'source': {'id': None, 'name': 'Moneycontrol'}, 'author': None, 'title': 'Net office absorption at 4.39 million sq ft in the second quarter: JLL - Moneycontrol.com', 'description': 'IT and ITeS sector is expected to remain the key occupier group, while demand from emerging sectors such as e-commerce, manufacturing and healthcare is likely to grow, JLL says in a report', 'url': 'https://www.moneycontrol.com/news/business/real-estate/net-office-absorption-at-4-39-million-sq-ft-in-the-second-quarter-jll-7191021.html', 'urlToImage': 'https://images.moneycontrol.com/static-mcnews/2021/05/Empty-office-770x433.jpg', 'publishedAt': '2021-07-19T08:30:15Z', 'content': 'Indias net office absorption stood at 4.39 million sq ft in the second quarter of 2021, a 32 percent year-on-year growth in major cities, real estate services company JLL has said.\\r\\nThe net absorptio… [+3006 chars]'}, {'source': {'id': None, 'name': 'GaadiWaadi.com'}, 'author': 'Surendhar M', 'title': 'Hyundai Alcazar Reaches 11,000 Bookings In Just A Month - GaadiWaadi.com', 'description': 'Hyundai Alcazar beat Tata Safari, MG Hector, Mahindra XUV500 and Jeep Compass in the sales table for the month of June 2021 as well', 'url': 'https://gaadiwaadi.com/hyundai-alcazar-reaches-11000-bookings-in-just-a-month/', 'urlToImage': 'https://gaadiwaadi.com/wp-content/uploads/2021/06/Hyundai-ALCAZAR_2.jpg', 'publishedAt': '2021-07-19T08:10:52Z', 'content': 'A few weeks ago, Hyundai Motor India Limited (HMIL) introduced the Alcazar in the domestic market and is priced between Rs. 16.30 lakh for the entry-level variant and it goes all the way up to Rs. 19… [+1930 chars]'}] \n",
      "\n"
     ]
    },
    {
     "ename": "KeyboardInterrupt",
     "evalue": "",
     "output_type": "error",
     "traceback": [
      "\u001b[1;31m---------------------------------------------------------------------------\u001b[0m",
      "\u001b[1;31mKeyboardInterrupt\u001b[0m                         Traceback (most recent call last)",
      "\u001b[1;32m<ipython-input-12-b7dd5c5cad5a>\u001b[0m in \u001b[0;36m<module>\u001b[1;34m\u001b[0m\n\u001b[0;32m     13\u001b[0m     \u001b[0marticles_1\u001b[0m\u001b[1;33m=\u001b[0m\u001b[0mnews_dict\u001b[0m\u001b[1;33m[\u001b[0m\u001b[1;34m\"articles\"\u001b[0m\u001b[1;33m]\u001b[0m\u001b[1;33m\u001b[0m\u001b[1;33m\u001b[0m\u001b[0m\n\u001b[0;32m     14\u001b[0m     \u001b[1;32mfor\u001b[0m \u001b[0marticles\u001b[0m \u001b[1;32min\u001b[0m \u001b[0marticles_1\u001b[0m\u001b[1;33m:\u001b[0m\u001b[1;33m\u001b[0m\u001b[1;33m\u001b[0m\u001b[0m\n\u001b[1;32m---> 15\u001b[1;33m         \u001b[0mspeak\u001b[0m\u001b[1;33m(\u001b[0m\u001b[0marticles\u001b[0m\u001b[1;33m[\u001b[0m\u001b[1;34m'title'\u001b[0m\u001b[1;33m]\u001b[0m\u001b[1;33m)\u001b[0m\u001b[1;33m\u001b[0m\u001b[1;33m\u001b[0m\u001b[0m\n\u001b[0m\u001b[0;32m     16\u001b[0m         \u001b[0mspeak\u001b[0m\u001b[1;33m(\u001b[0m\u001b[1;34m\"Moving on to the next news\"\u001b[0m\u001b[1;33m)\u001b[0m\u001b[1;33m\u001b[0m\u001b[1;33m\u001b[0m\u001b[0m\n",
      "\u001b[1;32m<ipython-input-12-b7dd5c5cad5a>\u001b[0m in \u001b[0;36mspeak\u001b[1;34m(str1)\u001b[0m\n\u001b[0;32m      4\u001b[0m     \u001b[1;32mfrom\u001b[0m \u001b[0mwin32com\u001b[0m\u001b[1;33m.\u001b[0m\u001b[0mclient\u001b[0m \u001b[1;32mimport\u001b[0m \u001b[0mDispatch\u001b[0m\u001b[1;33m\u001b[0m\u001b[1;33m\u001b[0m\u001b[0m\n\u001b[0;32m      5\u001b[0m     \u001b[0mspeak\u001b[0m\u001b[1;33m=\u001b[0m\u001b[0mDispatch\u001b[0m\u001b[1;33m(\u001b[0m\u001b[1;34m\"SAPI.SpVoice\"\u001b[0m\u001b[1;33m)\u001b[0m\u001b[1;33m\u001b[0m\u001b[1;33m\u001b[0m\u001b[0m\n\u001b[1;32m----> 6\u001b[1;33m     \u001b[0mspeak\u001b[0m\u001b[1;33m.\u001b[0m\u001b[0mSpeak\u001b[0m\u001b[1;33m(\u001b[0m\u001b[0mstr1\u001b[0m\u001b[1;33m)\u001b[0m\u001b[1;33m\u001b[0m\u001b[1;33m\u001b[0m\u001b[0m\n\u001b[0m\u001b[0;32m      7\u001b[0m \u001b[1;32mif\u001b[0m \u001b[0m__name__\u001b[0m\u001b[1;33m==\u001b[0m\u001b[1;34m'__main__'\u001b[0m\u001b[1;33m:\u001b[0m\u001b[1;33m\u001b[0m\u001b[1;33m\u001b[0m\u001b[0m\n\u001b[0;32m      8\u001b[0m     \u001b[0mspeak\u001b[0m\u001b[1;33m(\u001b[0m\u001b[1;34m\"News for Today\"\u001b[0m\u001b[1;33m)\u001b[0m\u001b[1;33m\u001b[0m\u001b[1;33m\u001b[0m\u001b[0m\n",
      "\u001b[1;32m~\\Anaconda3\\lib\\site-packages\\win32com\\client\\dynamic.py\u001b[0m in \u001b[0;36mSpeak\u001b[1;34m(self, Text, Flags)\u001b[0m\n",
      "\u001b[1;31mKeyboardInterrupt\u001b[0m: "
     ]
    }
   ],
   "source": [
    "import requests\n",
    "import json\n",
    "def speak(str1):\n",
    "    from win32com.client import Dispatch\n",
    "    speak=Dispatch(\"SAPI.SpVoice\")\n",
    "    speak.Speak(str1)\n",
    "if __name__=='__main__':\n",
    "    speak(\"News for Today\")\n",
    "    url=\"https://newsapi.org/v2/top-headlines?country=in&category=business&apiKey=33330367f8b34dcb8ec5b9edffb9a6fb\"\n",
    "    news=requests.get(url).text\n",
    "    news_dict=json.loads(news)\n",
    "    print(news_dict[\"articles\"],\"\\n\")\n",
    "    articles_1=news_dict[\"articles\"]\n",
    "    for articles in articles_1:\n",
    "        speak(articles['title'])\n",
    "        speak(\"Moving on to the next news\")"
   ]
  },
  {
   "cell_type": "markdown",
   "metadata": {},
   "source": []
  }
 ],
 "metadata": {
  "kernelspec": {
   "display_name": "Python 3",
   "language": "python",
   "name": "python3"
  },
  "language_info": {
   "codemirror_mode": {
    "name": "ipython",
    "version": 3
   },
   "file_extension": ".py",
   "mimetype": "text/x-python",
   "name": "python",
   "nbconvert_exporter": "python",
   "pygments_lexer": "ipython3",
   "version": "3.8.5"
  }
 },
 "nbformat": 4,
 "nbformat_minor": 4
}
