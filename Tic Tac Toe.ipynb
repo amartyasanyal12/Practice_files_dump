{
 "cells": [
  {
   "cell_type": "code",
   "execution_count": 1,
   "metadata": {},
   "outputs": [
    {
     "data": {
      "text/plain": [
       "'\\n[-,-,-]\\n[-,-,-]\\n[-,-,-]\\n\\n3X3 board, user needs to input (1-9)\\n'"
      ]
     },
     "execution_count": 1,
     "metadata": {},
     "output_type": "execute_result"
    }
   ],
   "source": [
    "#understanding tic tac toe first\n",
    "'''\n",
    "[-,-,-]\n",
    "[-,-,-]\n",
    "[-,-,-]\n",
    "\n",
    "3X3 board, user needs to input (1-9)\n",
    "'''\n",
    "\n"
   ]
  },
  {
   "cell_type": "code",
   "execution_count": 2,
   "metadata": {},
   "outputs": [],
   "source": [
    "board=[\n",
    "    [\"-\",\"-\",\"-\"],\n",
    "    [\"-\",\"-\",\"-\"],\n",
    "    [\"-\",\"-\",\"-\"],\n",
    "]"
   ]
  },
  {
   "cell_type": "code",
   "execution_count": 3,
   "metadata": {},
   "outputs": [],
   "source": [
    "#this is toggling\n",
    "user=True #when true it refers to x, otherwise o\n",
    "turns=0\n"
   ]
  },
  {
   "cell_type": "code",
   "execution_count": 4,
   "metadata": {},
   "outputs": [
    {
     "name": "stdout",
     "output_type": "stream",
     "text": [
      "- - - \n",
      "- - - \n",
      "- - - \n"
     ]
    }
   ],
   "source": [
    "def print_board(board):\n",
    "    for row in board:\n",
    "        for slot in row:\n",
    "            print(slot,end=\" \")\n",
    "        print()\n",
    "\n",
    "print_board(board)"
   ]
  },
  {
   "cell_type": "code",
   "execution_count": 5,
   "metadata": {},
   "outputs": [],
   "source": [
    "def check_input(user_input):\n",
    "    #this checks if the number is a string/number\n",
    "    isnum(user_input)\n",
    "    if not isnum(user_input):return False\n",
    "    user_input=int(user_input)\n",
    "    #check if its 1-9\n",
    "    if not bounds(user_input): return False\n",
    "    \n",
    "    return True"
   ]
  },
  {
   "cell_type": "code",
   "execution_count": 6,
   "metadata": {},
   "outputs": [],
   "source": [
    "def isnum(user_input):\n",
    "    if not user_input.isnumeric():\n",
    "        print(\"Please Enter a valid number\")\n",
    "        return False\n",
    "    else: return True"
   ]
  },
  {
   "cell_type": "code",
   "execution_count": 7,
   "metadata": {},
   "outputs": [],
   "source": [
    "def bounds(user_input):\n",
    "    if user_input>9 or user_input<1:\n",
    "        print(\"This number is out of bounds\")\n",
    "        return False\n",
    "    else: return True\n",
    "    "
   ]
  },
  {
   "cell_type": "code",
   "execution_count": 8,
   "metadata": {},
   "outputs": [],
   "source": [
    "def quit(n):\n",
    "    if n.lower()==\"q\": \n",
    "        print(\"Thanks for playing\")\n",
    "        return True\n",
    "    else: return False"
   ]
  },
  {
   "cell_type": "code",
   "execution_count": 9,
   "metadata": {},
   "outputs": [],
   "source": [
    "def istaken(coords,board):\n",
    "    row=coords[0]\n",
    "    col=coords[1]\n",
    "    if board[row][col] != \"-\":\n",
    "        print(\"The position is already taken\")\n",
    "        return True\n",
    "    else: return False"
   ]
  },
  {
   "cell_type": "code",
   "execution_count": 10,
   "metadata": {},
   "outputs": [],
   "source": [
    "def coordinates(user_input):\n",
    "    row=int(user_input/3)\n",
    "    col=user_input\n",
    "    if col>2:col=int(col%3)\n",
    "    return (row,col)"
   ]
  },
  {
   "cell_type": "code",
   "execution_count": 11,
   "metadata": {},
   "outputs": [],
   "source": [
    "def add_board(coords,board,active_user):\n",
    "    row=coords[0]\n",
    "    col=coords[1]\n",
    "    board[row][col]=active_user"
   ]
  },
  {
   "cell_type": "code",
   "execution_count": 12,
   "metadata": {},
   "outputs": [],
   "source": [
    "def current_user(user):\n",
    "    if user:return \"x\"\n",
    "    else: return \"o\""
   ]
  },
  {
   "cell_type": "code",
   "execution_count": 13,
   "metadata": {},
   "outputs": [],
   "source": [
    "def iswin(user,board):\n",
    "    if check_row(user,board): return True\n",
    "    if check_col(user,board):return True\n",
    "    if check_diag(user,board):return True\n",
    "    return False\n",
    "    \n",
    "    "
   ]
  },
  {
   "cell_type": "code",
   "execution_count": 14,
   "metadata": {},
   "outputs": [],
   "source": [
    "def check_row(user,board):\n",
    "    for row in board:\n",
    "        complete_row=True\n",
    "        for slot in row:\n",
    "            if slot != user:\n",
    "                complete_row=False \n",
    "                break\n",
    "        if complete_row: return True\n",
    "    return False\n"
   ]
  },
  {
   "cell_type": "code",
   "execution_count": 15,
   "metadata": {},
   "outputs": [],
   "source": [
    "def check_col(user,board):\n",
    "    for col in range(3):\n",
    "        complete_col=True\n",
    "        for row in range(3):\n",
    "            if board[row][col] != user:\n",
    "                complete_col=False\n",
    "                break\n",
    "        if complete_col:return True\n",
    "    return False"
   ]
  },
  {
   "cell_type": "code",
   "execution_count": 16,
   "metadata": {},
   "outputs": [],
   "source": [
    "def check_diag(user,board):\n",
    "    #top left to bottom right\n",
    "    if board [0][0]==user and board[1][1]==user and board[2][2]==user:return True\n",
    "    elif board [0][2]==user and board[1][1]==user and board[2][0]==user:return True\n",
    "    else:return False"
   ]
  },
  {
   "cell_type": "code",
   "execution_count": 17,
   "metadata": {},
   "outputs": [
    {
     "name": "stdout",
     "output_type": "stream",
     "text": [
      "- - - \n",
      "- - - \n",
      "- - - \n",
      "Enter a number 1 to 9 or enter q to quit \t3\n",
      "- - x \n",
      "- - - \n",
      "- - - \n",
      "Enter a number 1 to 9 or enter q to quit \t5\n",
      "- - x \n",
      "- o - \n",
      "- - - \n",
      "Enter a number 1 to 9 or enter q to quit \t2\n",
      "- x x \n",
      "- o - \n",
      "- - - \n",
      "Enter a number 1 to 9 or enter q to quit \t8\n",
      "- x x \n",
      "- o - \n",
      "- o - \n",
      "Enter a number 1 to 9 or enter q to quit \t7\n",
      "- x x \n",
      "- o - \n",
      "x o - \n",
      "Enter a number 1 to 9 or enter q to quit \t8\n",
      "The position is already taken\n",
      "Please Try Again\n",
      "- x x \n",
      "- o - \n",
      "x o - \n",
      "Enter a number 1 to 9 or enter q to quit \t4\n",
      "- x x \n",
      "o o - \n",
      "x o - \n",
      "Enter a number 1 to 9 or enter q to quit \t3\n",
      "The position is already taken\n",
      "Please Try Again\n",
      "- x x \n",
      "o o - \n",
      "x o - \n",
      "Enter a number 1 to 9 or enter q to quit \t2\n",
      "The position is already taken\n",
      "Please Try Again\n",
      "- x x \n",
      "o o - \n",
      "x o - \n",
      "Enter a number 1 to 9 or enter q to quit \t1\n",
      "X won!\n"
     ]
    }
   ],
   "source": [
    "while turns<9:\n",
    "    print_board(board)\n",
    "    active_user=current_user(user)\n",
    "    n=input(\"Enter a number 1 to 9 or enter q to quit \\t\")\n",
    "    if quit(n): break \n",
    "    if not check_input(n):\n",
    "        print(\"Please Try again\")\n",
    "        continue\n",
    "    n=int(n)-1\n",
    "    coords=coordinates(n)\n",
    "    if istaken(coords,board):\n",
    "        print(\"Please Try Again\")\n",
    "        continue\n",
    "    add_board(coords,board,active_user)\n",
    "    if iswin(active_user,board):\n",
    "        print(f\"{active_user.upper()} won!\")\n",
    "        break\n",
    "    \n",
    "    turns+=1\n",
    "    if turns==9:print(\"Tie!\")\n",
    "    user=not user"
   ]
  },
  {
   "cell_type": "code",
   "execution_count": null,
   "metadata": {},
   "outputs": [],
   "source": []
  },
  {
   "cell_type": "code",
   "execution_count": null,
   "metadata": {},
   "outputs": [],
   "source": []
  },
  {
   "cell_type": "code",
   "execution_count": null,
   "metadata": {},
   "outputs": [],
   "source": []
  }
 ],
 "metadata": {
  "kernelspec": {
   "display_name": "Python 3",
   "language": "python",
   "name": "python3"
  },
  "language_info": {
   "codemirror_mode": {
    "name": "ipython",
    "version": 3
   },
   "file_extension": ".py",
   "mimetype": "text/x-python",
   "name": "python",
   "nbconvert_exporter": "python",
   "pygments_lexer": "ipython3",
   "version": "3.8.5"
  }
 },
 "nbformat": 4,
 "nbformat_minor": 4
}
