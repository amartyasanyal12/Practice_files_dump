{
 "cells": [
  {
   "cell_type": "code",
   "execution_count": 9,
   "metadata": {},
   "outputs": [
    {
     "name": "stdout",
     "output_type": "stream",
     "text": [
      "{'barcelona', 'city', 'manchester', 'drawnzer'}\n"
     ]
    }
   ],
   "source": [
    "list1={\"barcelona\",\"city\",\"manchester\",\"drawnzer\"}\n",
    "print(list1)"
   ]
  },
  {
   "cell_type": "code",
   "execution_count": 11,
   "metadata": {},
   "outputs": [
    {
     "name": "stdout",
     "output_type": "stream",
     "text": [
      "Enter your number3\n",
      "The value of fibonacci number(3) is 2\n"
     ]
    }
   ],
   "source": [
    "def fiborecur(n):\n",
    "    if n==0 or n==1:\n",
    "        return n\n",
    "    else:\n",
    "        return fiborecur(n-1)+fiborecur(n-2)\n",
    "\n",
    "if __name__==\"__main__\":\n",
    "    num=int(input(\"Enter your number\"))\n",
    "    print(f\"The value of fibonacci number({num}) is {fiborecur(num)}\")\n"
   ]
  },
  {
   "cell_type": "code",
   "execution_count": 1,
   "metadata": {},
   "outputs": [
    {
     "name": "stdout",
     "output_type": "stream",
     "text": [
      "Enter a number8\n",
      "21\n"
     ]
    }
   ],
   "source": [
    "#print nth number of series\n",
    "n2=int(input(\"Enter a number\"))\n",
    "a=1\n",
    "b=1\n",
    "c=0\n",
    "i=3\n",
    "while(i<=n2):\n",
    "    c=a+b\n",
    "    a=b\n",
    "    b=c\n",
    "    i=i+1\n",
    "print(c)\n"
   ]
  },
  {
   "cell_type": "code",
   "execution_count": 4,
   "metadata": {},
   "outputs": [
    {
     "ename": "SyntaxError",
     "evalue": "invalid syntax (<ipython-input-4-d4977ef96619>, line 16)",
     "output_type": "error",
     "traceback": [
      "\u001b[1;36m  File \u001b[1;32m\"<ipython-input-4-d4977ef96619>\"\u001b[1;36m, line \u001b[1;32m16\u001b[0m\n\u001b[1;33m    else\u001b[0m\n\u001b[1;37m        ^\u001b[0m\n\u001b[1;31mSyntaxError\u001b[0m\u001b[1;31m:\u001b[0m invalid syntax\n"
     ]
    }
   ],
   "source": [
    "print(\"Buddy enter the Quiz\")\n",
    "q1=''' \n",
    "1. Which team won the PL 19-20 Season:\n",
    "a. Manchester City\n",
    "b. Arsenal\n",
    "c. Liverpool\n",
    "d. Chelsea\n",
    "'''\n",
    "\n",
    "questions={q1:\"c\"}\n",
    "for i in questions:\n",
    "    print(i)\n",
    "    z=input(\"Enter your choice: a/b/c/d \\t\")\n",
    "    if z==questions[i]:\n",
    "        print(\"Yes, this team won the championships in 19-20\", questions[i])\n",
    "    else:\n",
    "        print(\"No you are wrong\")\n",
    "\n",
    "\n",
    "    "
   ]
  },
  {
   "cell_type": "code",
   "execution_count": null,
   "metadata": {},
   "outputs": [],
   "source": []
  }
 ],
 "metadata": {
  "kernelspec": {
   "display_name": "Python 3",
   "language": "python",
   "name": "python3"
  },
  "language_info": {
   "codemirror_mode": {
    "name": "ipython",
    "version": 3
   },
   "file_extension": ".py",
   "mimetype": "text/x-python",
   "name": "python",
   "nbconvert_exporter": "python",
   "pygments_lexer": "ipython3",
   "version": "3.8.5"
  }
 },
 "nbformat": 4,
 "nbformat_minor": 4
}
