{
 "cells": [
  {
   "cell_type": "code",
   "execution_count": 1,
   "metadata": {},
   "outputs": [],
   "source": [
    "#Building a library management system from scratch"
   ]
  },
  {
   "cell_type": "code",
   "execution_count": 2,
   "metadata": {},
   "outputs": [],
   "source": [
    "import sys #this is for the exit function\n",
    "import time"
   ]
  },
  {
   "cell_type": "code",
   "execution_count": 12,
   "metadata": {},
   "outputs": [
    {
     "name": "stdout",
     "output_type": "stream",
     "text": [
      "WELCOME TO THE LIBRARY OF CALCUTTA UNI. PLEASE MAINTAIN SILENCE WHILE BORROWING A BOOK\n",
      "Please wait for our system to start\n",
      "The options available to you are:\n",
      "Press 1. for Displaying Library catalogue\n",
      "Press 2. for Borrowing a book from the library catalogue\n",
      "Press 3. for Lending a book to the libray\n",
      "Press 4. for Returning a book\n",
      "Enter your choice among: 1/2/3/4 \n",
      "1\n",
      "Hey there this is the Library management system of ,Calcutta Uni., The books available are:\n",
      "Do you want to continue [Y/N]: \n",
      "Y/N \n",
      "N\n",
      "Thanks for using the library system, appreciate it\n"
     ]
    }
   ],
   "source": [
    "class Library():\n",
    "    def __init__(self,list1,name):\n",
    "        self.list1=list1\n",
    "        self.name=name\n",
    "        self.dict1={}\n",
    "    \n",
    "    def display(self):\n",
    "        print(f\"Hey there this is the Library management system of ,{self.name}, The books available are:\")\n",
    "        for book in self.list1:\n",
    "            print (book)\n",
    "            \n",
    "    def borrowbook(self,book,user):\n",
    "        if book not in self.dict1.keys():\n",
    "            self.dict1.update({book:user})\n",
    "            print(\"You can now borrow this book from this library, please renew after 1 week or else you will be charged\")\n",
    "        else:\n",
    "            print(\"Sorry! This book has already been issued by: \",self.dict1[book])\n",
    "    \n",
    "    def lendbook(self,book):\n",
    "        print(\"Thanks for adding a book to the library resource\")\n",
    "        self.list1.append(book)\n",
    "    \n",
    "    def returnbook(self,book):\n",
    "        print(\"Thank you for returning the book! Hope you had a good time reading it!\")\n",
    "        self.dict1.pop(book)\n",
    "        \n",
    "\n",
    "if __name__==\"__main__\":\n",
    "    print(\"WELCOME TO THE LIBRARY OF CALCUTTA UNI. PLEASE MAINTAIN SILENCE WHILE BORROWING A BOOK\")\n",
    "    print(\"Please wait for our system to start\")\n",
    "    time.sleep(5)\n",
    "    object1=Library([\"The Alchemist\",\"Promised Land\",\"Catch-22\",\"Shoe Dog\"],\"Calcutta Uni.\")\n",
    "    while(True):\n",
    "        print(\"The options available to you are:\")\n",
    "        print(\"Press 1. for Displaying Library catalogue\")\n",
    "        print(\"Press 2. for Borrowing a book from the library catalogue\")\n",
    "        print(\"Press 3. for Lending a book to the libray\")\n",
    "        print(\"Press 4. for Returning a book\")\n",
    "        user_input=int(input(\"Enter your choice among: 1/2/3/4 \\n\"))\n",
    "        if user_input==1:\n",
    "            object1.display()\n",
    "        elif user_input==2:\n",
    "            object1.display()\n",
    "            book=input(\"Enter book name: \")\n",
    "            user=input(\"Enter user name: \")\n",
    "            object1.borrowbook(book,user)\n",
    "        elif user_input==3:\n",
    "            book=input(\"Enter the book name which you want to give: we really appreciate it! \\n\")\n",
    "            object1.lendbook(book)\n",
    "        elif user_input==4:\n",
    "            book=input(\"Please give the name of the book you want to return\")\n",
    "            print(\"Please wait for our system to manage the load!\")\n",
    "            time.sleep(3)\n",
    "            object1.returnbook(book)\n",
    "        else:\n",
    "            print(\"Invalid Input\")\n",
    "\n",
    "        print(\"Do you want to continue [Y/N]: \")\n",
    "        user_choice=\" \"\n",
    "        user_choice=input(\"Y/N \\n\")\n",
    "        if user_choice==\"N\":\n",
    "            print(\"Thanks for using the library system, appreciate it\")\n",
    "            break\n",
    "        else:\n",
    "            continue\n",
    "            \n",
    "        \n",
    "        "
   ]
  },
  {
   "cell_type": "code",
   "execution_count": null,
   "metadata": {},
   "outputs": [],
   "source": []
  },
  {
   "cell_type": "code",
   "execution_count": 11,
   "metadata": {},
   "outputs": [],
   "source": []
  },
  {
   "cell_type": "code",
   "execution_count": null,
   "metadata": {},
   "outputs": [],
   "source": []
  }
 ],
 "metadata": {
  "kernelspec": {
   "display_name": "Python 3",
   "language": "python",
   "name": "python3"
  },
  "language_info": {
   "codemirror_mode": {
    "name": "ipython",
    "version": 3
   },
   "file_extension": ".py",
   "mimetype": "text/x-python",
   "name": "python",
   "nbconvert_exporter": "python",
   "pygments_lexer": "ipython3",
   "version": "3.8.5"
  }
 },
 "nbformat": 4,
 "nbformat_minor": 4
}
