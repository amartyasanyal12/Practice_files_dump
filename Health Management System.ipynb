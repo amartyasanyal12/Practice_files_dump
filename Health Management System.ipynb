{
 "cells": [
  {
   "cell_type": "code",
   "execution_count": 18,
   "metadata": {},
   "outputs": [],
   "source": [
    "#HEALTH MANAGEMENT SYSTEM\n",
    "#BOTH INSERTING AS WELL AS RETRIEVING THE FILE FUNCTIONS\n",
    "\n",
    "import pygame\n",
    "from pygame import mixer\n",
    "from datetime import datetime\n",
    "from time import time\n",
    "\n",
    "pygame.init()\n",
    "from pygame import mixer\n",
    "def musiconloop(file,stopper):\n",
    "    mixer.init()\n",
    "    mixer.music.load(file)\n",
    "    mixer.music.play(-1)\n",
    "    while True:\n",
    "        a=input(\"do you want to stop the music, enter stopper\")\n",
    "        if a==stopper:\n",
    "            mixer.music.stop()\n",
    "            break\n",
    "            \n",
    "def log_now(msg):\n",
    "    with open (\"mylogs.txt\",\"a\") as f:\n",
    "        f.write(f\"{msg}, {datetime.now()}\\n\")\n",
    "\n",
    "            \n",
    "if __name__==\"main\":\n",
    "    #musiconloop(\"water.mp3\",\"stp\")\n",
    "    init_water=time()\n",
    "    init_eyes=time()\n",
    "    init_exercise=time()\n",
    "    watersecs=5\n",
    "    eyesecs=10\n",
    "    exersecs=15\n",
    "    while True:\n",
    "        if time()-init_water>watersecs:\n",
    "            print(\"Water drinking time. Enter drinking to stop the message\")\n",
    "            musiconloop(\"water.mp3\",\"drank\")\n",
    "            init_water=time()\n",
    "            log_now(\"Water drank at\")\n",
    "            \n",
    "        if time()-init_eyes>eyesecs:\n",
    "            print(\"Eye exercise time. Enter eye_done to stop the message\")\n",
    "            musiconloop(\"eye.mp3\",\"eye_done\")\n",
    "            init_eyes=time()\n",
    "            log_now(\"Eyes relaxed at\")\n",
    "            \n",
    "        if time()-init_exercise>exersces:\n",
    "            print(\"Exercise time. Enter exer_done to stop the message\")\n",
    "            musiconloop(\"exercise.mp3\",\"exer_done\")\n",
    "            init_exercise=time()\n",
    "            log_now(\"Exercise done at\")\n",
    "    \n",
    "    "
   ]
  },
  {
   "cell_type": "code",
   "execution_count": 27,
   "metadata": {},
   "outputs": [
    {
     "name": "stdout",
     "output_type": "stream",
     "text": [
      "After 5 secs\n",
      "After 5 secs\n",
      "After 5 secs\n"
     ]
    }
   ],
   "source": [
    "import time\n",
    "initial=time.time()\n",
    "timesecs=3\n",
    "i=0\n",
    "while (i<3):\n",
    "    if time.time()-initial>5:\n",
    "        print (\"After 5 secs\")\n",
    "        i+=1"
   ]
  },
  {
   "cell_type": "code",
   "execution_count": 7,
   "metadata": {},
   "outputs": [
    {
     "name": "stdout",
     "output_type": "stream",
     "text": [
      "1 0 1 0 1 0 1 0 1 0 \n"
     ]
    }
   ],
   "source": [
    "j=0\n",
    "for i in range(10):\n",
    "    if i%2==0:\n",
    "        j=j+1\n",
    "    else:\n",
    "        j=j-1\n",
    "    print(j, end=\" \")\n",
    "print()"
   ]
  },
  {
   "cell_type": "code",
   "execution_count": 8,
   "metadata": {},
   "outputs": [
    {
     "name": "stdout",
     "output_type": "stream",
     "text": [
      "  # #   # #   \n",
      "#     #     # \n",
      "#           # \n",
      "  #       #   \n",
      "    #   #     \n",
      "      #       \n"
     ]
    }
   ],
   "source": [
    "for row in range(6):\n",
    "    for column in range(7):\n",
    "        if (row==0 and column%3 !=0) or (row==1 and column%3==0 ) or (row-column==2) or (column + row==8):\n",
    "            print(\"#\", end= \" \")\n",
    "        else:\n",
    "            print(\" \", end= \" \")\n",
    "    print()"
   ]
  },
  {
   "cell_type": "code",
   "execution_count": 39,
   "metadata": {},
   "outputs": [
    {
     "name": "stdout",
     "output_type": "stream",
     "text": [
      "6\n"
     ]
    }
   ],
   "source": [
    "n=188909\n",
    "order=len(str(n))\n",
    "print(order)"
   ]
  },
  {
   "cell_type": "code",
   "execution_count": null,
   "metadata": {},
   "outputs": [],
   "source": []
  },
  {
   "cell_type": "code",
   "execution_count": null,
   "metadata": {},
   "outputs": [],
   "source": [
    "from time import time\n",
    "from datetime import datetime\n",
    "init_water=time()\n",
    "watersecs=3\n",
    "\n",
    "\n",
    "\n",
    "def log_now(msg):\n",
    "    with open (\"mylogs.txt\",\"a\") as f:\n",
    "        f.write(f\"{msg}, {datetime.now()}\")\n",
    "\n",
    "def music_stopper(stopper):\n",
    "    a=input()\n",
    "    if a==stopper:\n",
    "        print(\"Time recorded\")\n",
    "        return True\n",
    "    else:return False\n",
    "\n",
    "\n",
    "while True:\n",
    "        if time()-init_water>watersecs:\n",
    "            print(\"Water drinking time. Enter drinking to stop the message\")\n",
    "            if music_stopper(\"drank\"): break\n",
    "            init_water=time()\n",
    "            if log_now(\"The log is updated at \"): break\n",
    "            \n",
    "            \n",
    "            "
   ]
  },
  {
   "cell_type": "code",
   "execution_count": 5,
   "metadata": {},
   "outputs": [],
   "source": [
    "def stopper(stop):\n",
    "    a=input()\n",
    "    if a==\"stop\":\n",
    "        print(\"We are stopping\")\n",
    "        return True\n",
    "    else:\n",
    "        return False\n",
    "        "
   ]
  },
  {
   "cell_type": "code",
   "execution_count": 6,
   "metadata": {},
   "outputs": [
    {
     "name": "stdout",
     "output_type": "stream",
     "text": [
      "baba\n",
      "bababa\n",
      "hsl'l'asdl\n",
      "stop\n",
      "We are stopping\n"
     ]
    }
   ],
   "source": [
    "while True:\n",
    "    if stopper(\"stop\"):break\n",
    "    else: continue"
   ]
  },
  {
   "cell_type": "code",
   "execution_count": null,
   "metadata": {},
   "outputs": [],
   "source": []
  }
 ],
 "metadata": {
  "kernelspec": {
   "display_name": "Python 3",
   "language": "python",
   "name": "python3"
  },
  "language_info": {
   "codemirror_mode": {
    "name": "ipython",
    "version": 3
   },
   "file_extension": ".py",
   "mimetype": "text/x-python",
   "name": "python",
   "nbconvert_exporter": "python",
   "pygments_lexer": "ipython3",
   "version": "3.8.5"
  }
 },
 "nbformat": 4,
 "nbformat_minor": 4
}
