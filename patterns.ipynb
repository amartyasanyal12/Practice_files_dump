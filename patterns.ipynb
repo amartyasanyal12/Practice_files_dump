{
 "cells": [
  {
   "cell_type": "code",
   "execution_count": 1,
   "metadata": {},
   "outputs": [
    {
     "name": "stdout",
     "output_type": "stream",
     "text": [
      "I am a student\n"
     ]
    }
   ],
   "source": [
    "#factory design pattern\n",
    "from abc import ABCMeta,abstractstaticmethod\n",
    "\n",
    "#creating abstract class\n",
    "class Iperson(metaclass=ABCMeta):\n",
    "\n",
    "    @abstractstaticmethod\n",
    "    def person_method():\n",
    "        \"\"\"Interface Method\"\"\"\n",
    "\n",
    "class Student(Iperson):\n",
    "    def __init__(self):\n",
    "        self.name=\"Any student name\"\n",
    "    \n",
    "    def person_method(self):\n",
    "        print('I am a student')\n",
    "\n",
    "class Teacher(Iperson):\n",
    "    def __init__(self):\n",
    "        self.name=\"Basic Teacher name\"\n",
    "    \n",
    "    def person_method(self):\n",
    "        print(\"I am a teacher\")\n",
    "\n",
    "class PersonFactory:\n",
    "\n",
    "    @staticmethod\n",
    "    def build_person(person_type):\n",
    "        if person_type=='Student':\n",
    "            return Student()\n",
    "        if person_type=='Teacher':\n",
    "            return Teacher()\n",
    "        print('Invalid type')\n",
    "        return -1\n",
    "\n",
    "if __name__==\"__main__\":\n",
    "    choice=input(\"What type of person do you want to create ? \\n\")\n",
    "    person=PersonFactory.build_person(choice)\n",
    "    person.person_method()\n",
    "\n",
    "\n",
    "\n",
    "\n"
   ]
  },
  {
   "cell_type": "code",
   "execution_count": 3,
   "metadata": {},
   "outputs": [
    {
     "name": "stdout",
     "output_type": "stream",
     "text": [
      "1 \n",
      "1 2 \n",
      "1 2 3 \n",
      "1 2 3 4 \n",
      "1 2 3 4 5 \n",
      "1 2 3 4 5 6 \n",
      "1 2 3 4 5 6 7 \n",
      "1 2 3 4 5 6 7 8 \n",
      "1 2 3 4 5 6 7 8 9 \n",
      "1 2 3 4 5 6 7 8 9 10 \n"
     ]
    }
   ],
   "source": [
    "#numbers print\n",
    "n=int(input('enter a number'))\n",
    "for i in range(n):\n",
    "    for j in range(i+1):\n",
    "        print(j+1, end=\" \")\n",
    "    print()"
   ]
  }
 ],
 "metadata": {
  "interpreter": {
   "hash": "aee8b7b246df8f9039afb4144a1f6fd8d2ca17a180786b69acc140d282b71a49"
  },
  "kernelspec": {
   "display_name": "Python 3.10.6 64-bit",
   "language": "python",
   "name": "python3"
  },
  "language_info": {
   "codemirror_mode": {
    "name": "ipython",
    "version": 3
   },
   "file_extension": ".py",
   "mimetype": "text/x-python",
   "name": "python",
   "nbconvert_exporter": "python",
   "pygments_lexer": "ipython3",
   "version": "3.10.6"
  },
  "orig_nbformat": 4
 },
 "nbformat": 4,
 "nbformat_minor": 2
}
