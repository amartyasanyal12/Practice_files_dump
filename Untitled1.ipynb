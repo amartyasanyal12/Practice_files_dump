{
 "cells": [
  {
   "cell_type": "code",
   "execution_count": 1,
   "metadata": {},
   "outputs": [
    {
     "data": {
      "text/plain": [
       "'1.1.3'"
      ]
     },
     "execution_count": 1,
     "metadata": {},
     "output_type": "execute_result"
    }
   ],
   "source": [
    "import pandas as pd\n",
    "pd.__version__"
   ]
  },
  {
   "cell_type": "code",
   "execution_count": 18,
   "metadata": {
    "scrolled": true
   },
   "outputs": [
    {
     "name": "stdout",
     "output_type": "stream",
     "text": [
      "[1 2 3 4]\n"
     ]
    }
   ],
   "source": [
    "from numpy import *\n",
    "arr2=array([1,2,3,4])\n",
    "print(arr2)"
   ]
  },
  {
   "cell_type": "code",
   "execution_count": 15,
   "metadata": {},
   "outputs": [
    {
     "name": "stdout",
     "output_type": "stream",
     "text": [
      "The number of guesses is limited to 5\n",
      "Enter your number23\n",
      "Your guess is too high!\n",
      "no of guesses left 4\n",
      "Enter your number19\n",
      "Your guess is too low! Try again\n",
      "no of guesses left 3\n",
      "Enter your number20\n",
      "You won!, guessed it in3times\n"
     ]
    }
   ],
   "source": [
    "#no of guesses\n",
    "n=20\n",
    "guess=1\n",
    "print(\"The number of guesses is limited to 5\")\n",
    "\n",
    "while (guess<=5):\n",
    "    your_choice=int(input(\"Enter your number\"))\n",
    "    if your_choice<n:\n",
    "        print(\"Your guess is too low! Try again\")\n",
    "    elif your_choice>n:\n",
    "        print(\"Your guess is too high!\")\n",
    "    else:\n",
    "        print(f\"You won!, guessed it in{guess}times\")\n",
    "        break\n",
    "    print(\"no of guesses left\",5-guess)\n",
    "    guess+=1\n",
    "if (guess>5):\n",
    "    print(\"game over\")\n",
    "            "
   ]
  },
  {
   "cell_type": "code",
   "execution_count": null,
   "metadata": {},
   "outputs": [],
   "source": []
  },
  {
   "cell_type": "code",
   "execution_count": 20,
   "metadata": {},
   "outputs": [
    {
     "name": "stdout",
     "output_type": "stream",
     "text": [
      "Welcome to the game of guesses\n",
      "You will have a max of five guesses\n",
      "Enter your choice \n",
      "22\n",
      "Shoot your shot again \n",
      "\n",
      "Nigga no of guesses left are 4\n",
      "Enter your choice \n",
      "20\n",
      "Guess what you have done it in 2 times\n"
     ]
    }
   ],
   "source": [
    "print(\"Welcome to the game of guesses\")\n",
    "print(\"You will have a max of five guesses\")\n",
    "g=1\n",
    "while (g<=5):\n",
    "    y=int(input(\"Enter your choice \\n\"))\n",
    "    if y<20:\n",
    "        print(\"Shoot your shot again \\n\")\n",
    "    elif y>20:\n",
    "        print(\"Shoot your shot again \\n\")\n",
    "    else:\n",
    "        print(f\"Guess what you have done it in {g} times\")\n",
    "        break\n",
    "    print(\"Nigga no of guesses left are\",5-g)\n",
    "    g=g+1\n",
    "if g>5:\n",
    "    print(\"RIP\")"
   ]
  },
  {
   "cell_type": "code",
   "execution_count": 14,
   "metadata": {},
   "outputs": [
    {
     "name": "stdout",
     "output_type": "stream",
     "text": [
      "Enter a variable22\n",
      "Not a prime number\n"
     ]
    }
   ],
   "source": [
    "n1=int(input(\"Enter a variable\"))\n",
    "for i in range(2,n1):\n",
    "    if n1%i==0:\n",
    "        print(\"Not a prime number\")\n",
    "        break\n",
    "else:\n",
    "    print(\"A prime number\")\n",
    "i+=1\n",
    "\n",
    "    "
   ]
  },
  {
   "cell_type": "code",
   "execution_count": 17,
   "metadata": {},
   "outputs": [],
   "source": [
    "f=open(\"amartya.txt\",\"w\")#this is how to open and read a file\n",
    "f.write(\"This is a test\")\n",
    "#print(f.readline())#gives all the info of the files\n",
    "#f.seek(10) reads from 10th character\n",
    "f.close()"
   ]
  },
  {
   "cell_type": "code",
   "execution_count": 2,
   "metadata": {},
   "outputs": [
    {
     "name": "stdout",
     "output_type": "stream",
     "text": [
      "Enter 1 or 0:0\n",
      "*****\n",
      "****\n",
      "***\n",
      "**\n",
      "*\n"
     ]
    }
   ],
   "source": [
    "var1=bool(int(input(\"Enter 1 or 0:\")))\n",
    "j=1\n",
    "c=5\n",
    "if var1==True:\n",
    "    while(j<=5):\n",
    "        print(\"*\"*j)\n",
    "        j=j+1\n",
    "elif var1==False:\n",
    "    while (c>=1):\n",
    "        print(\"*\"*c)\n",
    "        c=c-1"
   ]
  },
  {
   "cell_type": "code",
   "execution_count": null,
   "metadata": {},
   "outputs": [],
   "source": [
    "#range(1,i+1):"
   ]
  },
  {
   "cell_type": "code",
   "execution_count": 3,
   "metadata": {},
   "outputs": [
    {
     "name": "stdout",
     "output_type": "stream",
     "text": [
      "Mitron\n",
      "29\n"
     ]
    }
   ],
   "source": [
    "#keywords in function\n",
    "def funcy(name,age):\n",
    "    print(name)\n",
    "    print(age-5)\n",
    "funcy(age=34,name=\"Mitron\")"
   ]
  },
  {
   "cell_type": "code",
   "execution_count": 49,
   "metadata": {},
   "outputs": [
    {
     "name": "stdout",
     "output_type": "stream",
     "text": [
      "224\n"
     ]
    }
   ],
   "source": [
    "def f(a,*b):#this makes a tuple of the numbers, can pass multiple values\n",
    "    c=a\n",
    "    for i in b:\n",
    "        c=c+i\n",
    "    print(c)\n",
    "f(34,45,67,78) #output add all the values"
   ]
  },
  {
   "cell_type": "code",
   "execution_count": 5,
   "metadata": {},
   "outputs": [
    {
     "name": "stdout",
     "output_type": "stream",
     "text": [
      "1\n",
      "2\n",
      "2\n",
      "3\n",
      "3\n",
      "3\n",
      "4\n",
      "4\n",
      "4\n",
      "4\n"
     ]
    }
   ],
   "source": [
    "for j in range(5):\n",
    "    for i in range(j):\n",
    "        i=j+1\n",
    "        print(j)\n",
    "    j+=1\n",
    "    "
   ]
  },
  {
   "cell_type": "code",
   "execution_count": 65,
   "metadata": {},
   "outputs": [
    {
     "name": "stdout",
     "output_type": "stream",
     "text": [
      "age 28\n",
      "city Mumbai\n",
      "number 22\n",
      "{'age': 28, 'city': 'Mumbai', 'number': 22}\n"
     ]
    }
   ],
   "source": [
    "#passing keywords through functions\n",
    "def ff(a,**b): #multiple arguments\n",
    "    for i,j in b.items():#syntax\n",
    "        print(i,j)\n",
    "    print(b)\n",
    "ff(\"Navin\",age=28,city=\"Mumbai\",number=22)"
   ]
  },
  {
   "cell_type": "code",
   "execution_count": 6,
   "metadata": {},
   "outputs": [
    {
     "ename": "SyntaxError",
     "evalue": "unexpected EOF while parsing (<ipython-input-6-173973ef67cc>, line 7)",
     "output_type": "error",
     "traceback": [
      "\u001b[1;36m  File \u001b[1;32m\"<ipython-input-6-173973ef67cc>\"\u001b[1;36m, line \u001b[1;32m7\u001b[0m\n\u001b[1;33m    for key,name1 in name.items():\u001b[0m\n\u001b[1;37m                                  ^\u001b[0m\n\u001b[1;31mSyntaxError\u001b[0m\u001b[1;31m:\u001b[0m unexpected EOF while parsing\n"
     ]
    }
   ],
   "source": [
    "name={1:\"Harry\",2:\"Sanyal\",3:\"Nehru\"}\n",
    "lockup={1:\"Exercise\",2:\"Diet\"}\n",
    "\n",
    "def getdate():\n",
    "    import datetime \n",
    "    return datetime.datetime.now()\n",
    "for key,name1 in name.items():\n",
    "    print(\"Press\",key,\"for\",name1, \"\\n\", end=\" \")\n",
    "client_name=int(input())\n",
    "\n",
    "print(\"Selected client:\", name[client_name], \"\\n\", end=\"\")\n",
    "print(\"Press 1 for lock\")\n",
    "print(\"Press 2 for retrieve\")\n",
    "op=int(input())\n",
    "if op == 1:\n",
    "    \n",
    "    \n"
   ]
  },
  {
   "cell_type": "code",
   "execution_count": 9,
   "metadata": {},
   "outputs": [
    {
     "name": "stdout",
     "output_type": "stream",
     "text": [
      "5\n",
      "10\n"
     ]
    }
   ],
   "source": [
    "l=5#global scope\n",
    "def f1(x):\n",
    "    x=5\n",
    "    #l=5 local scope\n",
    "    global l\n",
    "    l=l+5\n",
    "    print(x)\n",
    "    print(l)\n",
    "f1(5)"
   ]
  },
  {
   "cell_type": "code",
   "execution_count": 12,
   "metadata": {},
   "outputs": [
    {
     "name": "stdout",
     "output_type": "stream",
     "text": [
      "1\n",
      "3\n"
     ]
    }
   ],
   "source": [
    "def count2(lst):\n",
    "    gfive=0\n",
    "    lfive=0\n",
    "    for i in range(len(lst)):\n",
    "        if len(lst[i])>5:\n",
    "            gfive+=1\n",
    "        else:\n",
    "            lfive+=1\n",
    "    return gfive,lfive\n",
    "\n",
    "lst=[\"Amartya\",\"Rohan\",\"Tom\",\"Kali\"]\n",
    "\n",
    "gfive,lfive=count2(lst)\n",
    "\n",
    "print(gfive)\n",
    "print(lfive)\n"
   ]
  },
  {
   "cell_type": "code",
   "execution_count": 13,
   "metadata": {},
   "outputs": [
    {
     "name": "stdout",
     "output_type": "stream",
     "text": [
      "5\n",
      "120\n"
     ]
    }
   ],
   "source": [
    "#factorial\n",
    "n=int(input())\n",
    "def func3(n):\n",
    "    fac=1\n",
    "    for i in range(n):\n",
    "        fac=fac*(i+1)\n",
    "    print(fac)\n",
    "func3(n)"
   ]
  },
  {
   "cell_type": "code",
   "execution_count": 19,
   "metadata": {},
   "outputs": [
    {
     "name": "stdout",
     "output_type": "stream",
     "text": [
      "5\n"
     ]
    },
    {
     "data": {
      "text/plain": [
       "120"
      ]
     },
     "execution_count": 19,
     "metadata": {},
     "output_type": "execute_result"
    }
   ],
   "source": [
    "#recursive\n",
    "n1=int(input())\n",
    "def recursive_func(n1):\n",
    "    if n1==1:\n",
    "        return n1\n",
    "    else:\n",
    "        return n1*recursive_func(n1-1)\n",
    "\n",
    "    \n",
    "recursive_func(n1)"
   ]
  },
  {
   "cell_type": "code",
   "execution_count": 58,
   "metadata": {},
   "outputs": [
    {
     "name": "stdout",
     "output_type": "stream",
     "text": [
      "5\n",
      "0 1 1 2 3 5 "
     ]
    }
   ],
   "source": [
    "n=int(input())\n",
    "\n",
    "z=0\n",
    "x=1\n",
    "y=0\n",
    "while z<=n:\n",
    "    print(z, end=\" \")\n",
    "    z=x+y\n",
    "    x=y\n",
    "    y=z\n"
   ]
  },
  {
   "cell_type": "code",
   "execution_count": 50,
   "metadata": {},
   "outputs": [
    {
     "name": "stdout",
     "output_type": "stream",
     "text": [
      "3\n"
     ]
    },
    {
     "data": {
      "text/plain": [
       "2"
      ]
     },
     "execution_count": 50,
     "metadata": {},
     "output_type": "execute_result"
    }
   ],
   "source": [
    "#use recursive function to find nth number of fibonacci\n",
    "n2=int(input())\n",
    "def ff3(n2):\n",
    "    if n2==0:\n",
    "        return 0\n",
    "    elif n2==1:\n",
    "        return 1\n",
    "    else:\n",
    "        return ff3(n2-1)+ff3(n2-2)\n",
    "    \n",
    "ff3(n2)\n",
    "\n",
    "\n",
    "    "
   ]
  },
  {
   "cell_type": "code",
   "execution_count": 70,
   "metadata": {},
   "outputs": [
    {
     "name": "stdout",
     "output_type": "stream",
     "text": [
      "Enter the number of rows you want to print5\n",
      "What option do you want 1 or 0\n",
      "0\n",
      "* * * * * \n",
      "* * * * \n",
      "* * * \n",
      "* * \n",
      "* \n"
     ]
    }
   ],
   "source": [
    "var1=int(input(\"Enter the number of rows you want to print\"))\n",
    "print(\"What option do you want 1 or 0\")\n",
    "new1=int(input())\n",
    "new1=bool(new1)\n",
    "if new1==True:\n",
    "    for i in range(0,var1+1):\n",
    "        for j in range(0,i):\n",
    "            print(\"*\", end=\" \")\n",
    "            j+=1\n",
    "        print()\n",
    "elif new1==False:\n",
    "    for k in range(var1,0,-1):\n",
    "        for l in range(0,k):\n",
    "            print(\"*\", end=\" \")\n",
    "        print()"
   ]
  },
  {
   "cell_type": "code",
   "execution_count": 17,
   "metadata": {},
   "outputs": [
    {
     "name": "stdout",
     "output_type": "stream",
     "text": [
      "*****\n",
      "****\n",
      "***\n",
      "**\n",
      "*\n"
     ]
    }
   ],
   "source": [
    "i=5\n",
    "for j in range(i,0,-1):\n",
    "    print(\"*\"*j)\n",
    "    \n",
    "    "
   ]
  },
  {
   "cell_type": "code",
   "execution_count": 1,
   "metadata": {},
   "outputs": [
    {
     "name": "stdout",
     "output_type": "stream",
     "text": [
      "Enter the rows you want to print\n",
      "f\n",
      "Please try again!\n"
     ]
    }
   ],
   "source": [
    "try:\n",
    "    \n",
    "    print(\"Enter the rows you want to print\")\n",
    "    number2=int(input())\n",
    "    print(\"Choose 1 or 0 for pattern building\")\n",
    "    pattern=int(input())\n",
    "    pattern=bool(pattern)\n",
    "    if pattern==True:\n",
    "        for i1 in range (1,number2+1):\n",
    "                print(\"*\"*i1)\n",
    "\n",
    "    elif pattern==False:\n",
    "        print(\"Descending order pattern\")\n",
    "        for k1 in range(number2,0,-1):\n",
    "            print(\"*\"*k1)\n",
    "            print()\n",
    "    else:\n",
    "        print(\"You entered wrong input for execution\")\n",
    "\n",
    "except Exception as e:\n",
    "    print(\"Please try again!\")\n",
    "        "
   ]
  },
  {
   "cell_type": "code",
   "execution_count": 42,
   "metadata": {},
   "outputs": [
    {
     "name": "stdout",
     "output_type": "stream",
     "text": [
      "enter a number5\n",
      "\n",
      "**\n",
      "****\n"
     ]
    }
   ],
   "source": [
    "n=int(input(\"enter a number\"))\n",
    "for i2 in range(0,n+1,2):\n",
    "    print(\"*\"*i2)\n",
    "    "
   ]
  },
  {
   "cell_type": "code",
   "execution_count": 56,
   "metadata": {},
   "outputs": [
    {
     "name": "stdout",
     "output_type": "stream",
     "text": [
      "3\n",
      "4\n",
      "3+4=7\n"
     ]
    }
   ],
   "source": [
    "int1=int(input())\n",
    "int2=int(input())\n",
    "sum1=int1+int2\n",
    "print(f\"{int1}+{int2}={sum1}\")"
   ]
  },
  {
   "cell_type": "code",
   "execution_count": 58,
   "metadata": {},
   "outputs": [
    {
     "data": {
      "text/plain": [
       "5"
      ]
     },
     "execution_count": 58,
     "metadata": {},
     "output_type": "execute_result"
    }
   ],
   "source": [
    "minus=lambda x,y:x-y\n",
    "minus(9,4)"
   ]
  },
  {
   "cell_type": "code",
   "execution_count": 4,
   "metadata": {},
   "outputs": [
    {
     "name": "stdout",
     "output_type": "stream",
     "text": [
      "[[2, 3], [3, 6], [5, 4]]\n"
     ]
    }
   ],
   "source": [
    "def a_first(a):\n",
    "    return a\n",
    "a=[[5,4],[2,3],[3,6]]\n",
    "a.sort(key=a_first)\n",
    "\n",
    "print (a)\n"
   ]
  },
  {
   "cell_type": "code",
   "execution_count": 1,
   "metadata": {},
   "outputs": [
    {
     "name": "stdout",
     "output_type": "stream",
     "text": [
      "[[2, 3], [5, 4], [3, 6]]\n"
     ]
    }
   ],
   "source": [
    "a=[[5,4],[2,3],[3,6]]\n",
    "a.sort(key=lambda x:x[1]) #key is a keyword\n",
    "print(a)"
   ]
  },
  {
   "cell_type": "code",
   "execution_count": 7,
   "metadata": {},
   "outputs": [
    {
     "ename": "SyntaxError",
     "evalue": "unmatched ')' (<ipython-input-7-28b070aa4749>, line 18)",
     "output_type": "error",
     "traceback": [
      "\u001b[1;36m  File \u001b[1;32m\"<ipython-input-7-28b070aa4749>\"\u001b[1;36m, line \u001b[1;32m18\u001b[0m\n\u001b[1;33m    op.write(str(str[str(getdate)])) + \":\" + value +\"\\n\")\u001b[0m\n\u001b[1;37m                                                        ^\u001b[0m\n\u001b[1;31mSyntaxError\u001b[0m\u001b[1;31m:\u001b[0m unmatched ')'\n"
     ]
    }
   ],
   "source": [
    "import datetime\n",
    "def getdate():\n",
    "    return datetime.datetime.now()\n",
    "def take(k):\n",
    "    if k==1:\n",
    "        print(\"Enter 1 for exercise and 2 for food \\n\")\n",
    "        c=int(input())\n",
    "        if c==1:\n",
    "            print(\"The log opens\")\n",
    "            value=input()\n",
    "            with open (\"Harry-ex.txt\",\"a\") as op:\n",
    "                op.write(str(str[str(getdate)]) + \":\" + value)\n",
    "            print(\"Successfully written\")\n",
    "        if c==2:\n",
    "            print(\"The log opens \\n\")\n",
    "            value=input()\n",
    "            with open(\"Harry-food.txt\",\"a\") as op:\n",
    "                op.write(str(str[str(getdate)])) + \":\" + value +\"\\n\")\n",
    "        else:\n",
    "            print(\"Invalid input\")\n",
    "print(\"Health management system\")\n",
    "a=int(input(\"Press 1 for locking the value and 2 for retrieving the value\"))\n",
    "if a==1:\n",
    "    k=int(input(\"Press for 1 harry\"))\n",
    "    take(b)\n",
    "    \n",
    "        "
   ]
  },
  {
   "cell_type": "code",
   "execution_count": 3,
   "metadata": {},
   "outputs": [
    {
     "name": "stdout",
     "output_type": "stream",
     "text": [
      "0\n"
     ]
    }
   ],
   "source": [
    "#python built in modules and external modules\n",
    "import random\n",
    "ran_1=random.randint(0,5)\n",
    "print(ran_1)\n",
    "\n"
   ]
  },
  {
   "cell_type": "code",
   "execution_count": 5,
   "metadata": {},
   "outputs": [
    {
     "name": "stdout",
     "output_type": "stream",
     "text": [
      "g\n"
     ]
    }
   ],
   "source": [
    "string1=\"spring\"\n",
    "print(string1[len(string1)-1])\n"
   ]
  },
  {
   "cell_type": "code",
   "execution_count": 13,
   "metadata": {},
   "outputs": [
    {
     "name": "stdout",
     "output_type": "stream",
     "text": [
      "6\n"
     ]
    }
   ],
   "source": [
    "int2=\"9876\"\n",
    "print(int2[len(int2)-1])"
   ]
  },
  {
   "cell_type": "code",
   "execution_count": 16,
   "metadata": {},
   "outputs": [
    {
     "name": "stdout",
     "output_type": "stream",
     "text": [
      "120\n"
     ]
    }
   ],
   "source": [
    "number=5\n",
    "fact=1\n",
    "for i in range(number):\n",
    "    fact=fact*(i+1)\n",
    "    i+=1\n",
    "print(fact)"
   ]
  },
  {
   "cell_type": "code",
   "execution_count": 28,
   "metadata": {},
   "outputs": [
    {
     "name": "stdout",
     "output_type": "stream",
     "text": [
      "720\n"
     ]
    }
   ],
   "source": [
    "def n1(nums):\n",
    "    if nums==1:\n",
    "        return 1\n",
    "    else:\n",
    "        return nums*n1(nums-1)\n",
    "\n",
    "nums=6\n",
    "print(n1(nums))\n",
    "            "
   ]
  },
  {
   "cell_type": "code",
   "execution_count": 6,
   "metadata": {},
   "outputs": [
    {
     "name": "stdout",
     "output_type": "stream",
     "text": [
      "This is amartya\n",
      "This is amartya 3\n",
      "68\n",
      "8\n"
     ]
    }
   ],
   "source": [
    "me=\"amartya\"\n",
    "h=3\n",
    "print(\"This is %s\"%me)\n",
    "print(\"This is %s %s\"%(me,h))\n",
    "print(f\"{23+45}\")\n",
    "print(3+5)"
   ]
  },
  {
   "cell_type": "code",
   "execution_count": 8,
   "metadata": {},
   "outputs": [
    {
     "name": "stdout",
     "output_type": "stream",
     "text": [
      "[4, 80, 42]\n",
      "[4, 80, 42]\n"
     ]
    }
   ],
   "source": [
    "#filter map reduce\n",
    "def filter1(n):\n",
    "    return n%2==0\n",
    "        \n",
    "n1=[3,4,55,67,80,21,42]\n",
    "\n",
    "evens=list(filter(filter1,n1))\n",
    "\n",
    "print(evens)\n",
    "\n",
    "filter1(5)\n",
    "\n",
    "n1=[3,4,55,67,80,21,42]\n",
    "evens1=list(filter(lambda n:n%2==0,n1))\n",
    "print(evens1)"
   ]
  },
  {
   "cell_type": "code",
   "execution_count": 9,
   "metadata": {},
   "outputs": [
    {
     "name": "stdout",
     "output_type": "stream",
     "text": [
      "[14, 14, 36]\n",
      "69\n"
     ]
    }
   ],
   "source": [
    "#filter map reduce\n",
    "def update1(n):\n",
    "    return n+2\n",
    "l=[12,12,11,34]\n",
    "precis=list(filter(lambda x:x%2==0,l))\n",
    "precis1=list(map(update1,precis))\n",
    "print(precis1)\n",
    "from functools import reduce\n",
    "def update2(a,b):\n",
    "    return a+b\n",
    "sum1=reduce(update2,l)\n",
    "print(sum1)"
   ]
  },
  {
   "cell_type": "code",
   "execution_count": 11,
   "metadata": {},
   "outputs": [
    {
     "name": "stdout",
     "output_type": "stream",
     "text": [
      "this is 2 string\n"
     ]
    }
   ],
   "source": [
    "m=2\n",
    "h=\"string\"\n",
    "print(\"this is %s %s\"%(m,h))"
   ]
  },
  {
   "cell_type": "code",
   "execution_count": null,
   "metadata": {},
   "outputs": [],
   "source": []
  },
  {
   "cell_type": "code",
   "execution_count": 6,
   "metadata": {},
   "outputs": [
    {
     "name": "stdout",
     "output_type": "stream",
     "text": [
      "Enter the game of snake-water gun\n",
      "The options in the list are give below\n",
      "Enter the number of times you want to play the game4\n",
      "Enter your choice from snake,water,gunsnake\n",
      "You have entered wrong input, Try again\n",
      "The no of chances left for you 3\n",
      "Enter your choice from snake,water,gunSnake\n",
      "You have entered wrong input, Try again\n",
      "The no of chances left for you 2\n",
      "Enter your choice from snake,water,gunGun\n",
      "You have entered wrong input, Try again\n",
      "The no of chances left for you 1\n",
      "Enter your choice from snake,water,gungun\n",
      "You have entered wrong input, Try again\n",
      "The no of chances left for you 0\n",
      "Game over\n",
      "match drawn\n",
      "Your score is 0\n",
      "Opponent's score is 0\n"
     ]
    }
   ],
   "source": [
    "import random\n",
    "try:\n",
    "    print(\"Enter the game of snake-water gun\")\n",
    "    print(\"The options in the list are give below\")\n",
    "    list_1=[\"Snake\",\"Water\",\"Gun\"]\n",
    "    n=int(input(\"Enter the number of times you want to play the game\"))\n",
    "    no_of_chances=0\n",
    "    player_score=0\n",
    "    your_score=0\n",
    "    computer_sim=False\n",
    "    while (no_of_chances<n):\n",
    "        your_choice=input(\"Enter your choice from snake,water,gun\")\n",
    "        computer_sim=random.choice(list_1)\n",
    "        if your_choice==computer_sim:\n",
    "            print (\"Draw\")\n",
    "        elif your_choice==\"Snake\":\n",
    "            if computer_sim==\"Gun\":\n",
    "                print(\"You lose the game\")\n",
    "                player_score+=1\n",
    "                your_score=your_score-1\n",
    "            else:\n",
    "                print(\"You win the game\")\n",
    "                player_score=player_score-1\n",
    "                your_score=your_score-1\n",
    "        elif your_choice==\"Water\":\n",
    "            if computer_sim==\"Gun\":\n",
    "                print(\"You win the game\")\n",
    "                your_score+=1\n",
    "                player_score-=1\n",
    "            else:\n",
    "                print(\"You lose the game\")\n",
    "                your_score-=1\n",
    "                player_score+=1\n",
    "        elif your_choice==\"Gun\":\n",
    "            if computer_sim==\"Snake\":\n",
    "                print(\"You win the game\")\n",
    "                player_score-=1\n",
    "                your_score+=1\n",
    "            else:\n",
    "                print(\"You lose the game\")\n",
    "                player_score+=1\n",
    "                your_score-=1\n",
    "        else:\n",
    "            print(\"You have entered wrong input, Try again\")\n",
    "        \n",
    "        no_of_chances=no_of_chances+1\n",
    "        print(\"The no of chances left for you\",n-no_of_chances)\n",
    "    \n",
    "    print(\"Game over\")\n",
    "    \n",
    "    if your_score==player_score:\n",
    "        print(\"match drawn\")\n",
    "    elif your_score>player_score:\n",
    "        print(\"You won\")\n",
    "    else:\n",
    "        print(\"You lost\")\n",
    "\n",
    "    print(\"Your score is\",your_score)\n",
    "    print(\"Opponent's score is\",player_score)\n",
    "\n",
    "except Exception as e:\n",
    "    print(\"Enter correct input\")\n",
    "\n",
    "#your_choice.lower() in list1 will make sure that it will take an input;snake or Snake\n",
    "\n",
    "    \n",
    "        "
   ]
  },
  {
   "cell_type": "code",
   "execution_count": 2,
   "metadata": {},
   "outputs": [
    {
     "name": "stdout",
     "output_type": "stream",
     "text": [
      "I am a legend\n",
      "I am a legend\n",
      "I am a legend\n",
      "I am a legend\n",
      "I am a legend\n",
      "The time difference in ticks is 0.010967731475830078 seconds\n"
     ]
    }
   ],
   "source": [
    "import time\n",
    "initial1=time.time()#inside a time module there is a time function\n",
    "k=0\n",
    "while k<5:\n",
    "    print(\"I am a legend\")\n",
    "    k+=1\n",
    "print(\"The time difference in ticks is\", time.time()-initial1,\"seconds\")\n",
    "    \n"
   ]
  },
  {
   "cell_type": "code",
   "execution_count": 26,
   "metadata": {},
   "outputs": [
    {
     "name": "stdout",
     "output_type": "stream",
     "text": [
      "Sat May 22 00:20:22 2021\n"
     ]
    }
   ],
   "source": [
    "import time\n",
    "localtime1=time.asctime(time.localtime(time.time()))\n",
    "print(localtime1)"
   ]
  },
  {
   "cell_type": "code",
   "execution_count": 7,
   "metadata": {},
   "outputs": [
    {
     "name": "stdout",
     "output_type": "stream",
     "text": [
      "Hi\n"
     ]
    }
   ],
   "source": [
    "#decorators\n",
    "def outermessage():\n",
    "    message=\"Hi\"\n",
    "    def innermessage():\n",
    "        print(message)\n",
    "    return innermessage\n",
    "\n",
    "my_func=outermessage()\n",
    "my_func()"
   ]
  },
  {
   "cell_type": "code",
   "execution_count": 16,
   "metadata": {},
   "outputs": [
    {
     "data": {
      "text/plain": [
       "1.3333333333333333"
      ]
     },
     "execution_count": 16,
     "metadata": {},
     "output_type": "execute_result"
    }
   ],
   "source": [
    "'''swapping variables when numerator is lesser than denominator'''\n",
    "def div1(a,b):\n",
    "    if a<b:\n",
    "        a,b=b,a\n",
    "    return (a/b)\n",
    "div1(3,4)"
   ]
  },
  {
   "cell_type": "code",
   "execution_count": 19,
   "metadata": {},
   "outputs": [
    {
     "data": {
      "text/plain": [
       "2.0"
      ]
     },
     "execution_count": 19,
     "metadata": {},
     "output_type": "execute_result"
    }
   ],
   "source": [
    "'''using @ as decorator is useful to wrap the function '''\n",
    "\n",
    "def outer2(func):\n",
    "    def inner2(x,y):\n",
    "        if x<y:\n",
    "            x,y=y,x\n",
    "        return func(x,y)\n",
    "    return inner2\n",
    "    \n",
    "@outer2               #outer2=smart_div(outer2)\n",
    "def smart_div(a,b):\n",
    "    return a/b\n",
    "\n",
    "smart_div(2,4)"
   ]
  },
  {
   "cell_type": "code",
   "execution_count": 10,
   "metadata": {},
   "outputs": [
    {
     "name": "stdout",
     "output_type": "stream",
     "text": [
      "<class 'type'>\n",
      "This is a demo computer\n",
      "This is the following test\n",
      "This is a demo computer\n",
      "This is the following test\n"
     ]
    }
   ],
   "source": [
    "#class and methods in python\n",
    "class Computer:\n",
    "    def basics(self):\n",
    "        print(\"This is a demo computer\")\n",
    "    def basics1(self):\n",
    "        print(\"This is the following test\")\n",
    "\n",
    "print(type(Computer))\n",
    "com1=Computer()\n",
    "com2=Computer()\n",
    "Computer.basics(com1) #passing the values through the class\n",
    "Computer.basics1(com2)\n",
    "com1.basics()#calling the objects from functions\n",
    "com2.basics1()"
   ]
  },
  {
   "cell_type": "code",
   "execution_count": 12,
   "metadata": {},
   "outputs": [
    {
     "name": "stdout",
     "output_type": "stream",
     "text": [
      "Amartya\n",
      "22\n"
     ]
    }
   ],
   "source": [
    "class logics:\n",
    "    def __init__(self):\n",
    "        self.name=\"Amartya\"\n",
    "        self.age=22\n",
    "\n",
    "log1=logics()\n",
    "print(log1.name)\n",
    "print(log1.age)"
   ]
  },
  {
   "cell_type": "code",
   "execution_count": 13,
   "metadata": {},
   "outputs": [
    {
     "name": "stdout",
     "output_type": "stream",
     "text": [
      "The name is Amartya and the age is 22\n"
     ]
    }
   ],
   "source": [
    "class hellow:\n",
    "    def __init__(self,name,age):\n",
    "        self.age=age\n",
    "        self.name=name\n",
    "    def hell2(self):\n",
    "        print(\"The name is {} and the age is {}\".format(self.name,self.age))\n",
    "h1=hellow(\"Amartya\",22)\n",
    "h1.hell2()"
   ]
  },
  {
   "cell_type": "code",
   "execution_count": 15,
   "metadata": {},
   "outputs": [
    {
     "name": "stdout",
     "output_type": "stream",
     "text": [
      "2021-05-31\n",
      "19-04-52\n"
     ]
    }
   ],
   "source": [
    "import datetime\n",
    "import time\n",
    "z=str(datetime.datetime.now().date())\n",
    "y=time.strftime(\"%H:%M:%S\").replace(\":\",\"-\")\n",
    "print(z)\n",
    "print(y)"
   ]
  },
  {
   "cell_type": "code",
   "execution_count": null,
   "metadata": {},
   "outputs": [],
   "source": []
  }
 ],
 "metadata": {
  "kernelspec": {
   "display_name": "Python 3",
   "language": "python",
   "name": "python3"
  },
  "language_info": {
   "codemirror_mode": {
    "name": "ipython",
    "version": 3
   },
   "file_extension": ".py",
   "mimetype": "text/x-python",
   "name": "python",
   "nbconvert_exporter": "python",
   "pygments_lexer": "ipython3",
   "version": "3.8.5"
  }
 },
 "nbformat": 4,
 "nbformat_minor": 4
}
