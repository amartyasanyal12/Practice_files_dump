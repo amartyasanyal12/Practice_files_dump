{
 "cells": [
  {
   "cell_type": "code",
   "execution_count": 28,
   "metadata": {},
   "outputs": [
    {
     "name": "stdout",
     "output_type": "stream",
     "text": [
      "the car name Audi-R8 and the miles/gallon 13\n",
      "4\n"
     ]
    }
   ],
   "source": [
    "#instance variables and class variables\n",
    "\n",
    "class class1():\n",
    "    wheels=4\n",
    "    \n",
    "    def __init__(self,name,miles):\n",
    "        self.name=name\n",
    "        self.miles=miles\n",
    "    \n",
    "    def carmiles(self):\n",
    "        print(f\"the car name {self.name} and the miles/gallon {self.miles}\")\n",
    "        \n",
    "original_name=class1(\"Audi-R8\",13)\n",
    "\n",
    "\n",
    "original_name.carmiles()\n",
    "print(class1.wheels)\n"
   ]
  },
  {
   "cell_type": "code",
   "execution_count": 34,
   "metadata": {},
   "outputs": [
    {
     "name": "stdout",
     "output_type": "stream",
     "text": [
      "30.333333333333332\n",
      "school information is Charles X Xavier\n"
     ]
    }
   ],
   "source": [
    "#wrapping using decorators\n",
    "#class methods\n",
    "#static methods\n",
    "\n",
    "class school2():\n",
    "    \n",
    "    school=\"Charles X Xavier\"\n",
    "    \n",
    "    def __init__(self,m1,m2,m3):\n",
    "        self.m1=m1\n",
    "        self.m2=m2\n",
    "        self.m3=m3\n",
    "    def average_marks(self):\n",
    "        self.value=(self.m1+self.m2+self.m3)/3\n",
    "        print(self.value)\n",
    "    \n",
    "    @classmethod\n",
    "    def school_info(cls):\n",
    "        print(\"school information is\",cls.school)\n",
    "\n",
    "r1=school2(13,44,34)\n",
    "r1.average_marks()\n",
    "school2.school_info()#this syntax is different\n"
   ]
  },
  {
   "cell_type": "code",
   "execution_count": 14,
   "metadata": {},
   "outputs": [
    {
     "name": "stdout",
     "output_type": "stream",
     "text": [
      "Meat\n",
      "Fish\n"
     ]
    }
   ],
   "source": [
    "list2=[\"Carrots\",\"Meat\",\"Cabbage\",\"Fish\"] # only print meat and fish\n",
    "i=1\n",
    "for item in list2:\n",
    "    if i%2==0:\n",
    "        print(item)\n",
    "    i+=1"
   ]
  },
  {
   "cell_type": "code",
   "execution_count": 15,
   "metadata": {},
   "outputs": [
    {
     "name": "stdout",
     "output_type": "stream",
     "text": [
      "Meat\n",
      "Fish\n"
     ]
    }
   ],
   "source": [
    "#enumerate function\n",
    "\n",
    "for index,item in enumerate(list2):\n",
    "    if index%2 !=0:\n",
    "        print(item)"
   ]
  },
  {
   "cell_type": "code",
   "execution_count": 4,
   "metadata": {},
   "outputs": [
    {
     "name": "stdout",
     "output_type": "stream",
     "text": [
      "(2, 3, 4, 5, 6)\n",
      "Rohan Judicious lawyer\n"
     ]
    }
   ],
   "source": [
    "def func1(a,*b,**kwargs):\n",
    "    print(b)\n",
    "    for key,value in hell.items():\n",
    "        print(key,value)\n",
    "list2=[1,2,3,4,5,6]\n",
    "hell={\"Rohan\":\"Judicious lawyer\"}\n",
    "func1(*list2)"
   ]
  },
  {
   "cell_type": "code",
   "execution_count": 37,
   "metadata": {},
   "outputs": [
    {
     "name": "stdout",
     "output_type": "stream",
     "text": [
      "2\n",
      "4\n"
     ]
    }
   ],
   "source": [
    "x1=[1,2,3,4,5]\n",
    "for index,item in enumerate (x1):\n",
    "    if index%2 !=0:\n",
    "        print(item)"
   ]
  },
  {
   "cell_type": "code",
   "execution_count": 38,
   "metadata": {},
   "outputs": [
    {
     "name": "stdout",
     "output_type": "stream",
     "text": [
      "0.23.2\n"
     ]
    }
   ],
   "source": [
    "import sklearn as sk\n",
    "print(sk.__version__)"
   ]
  },
  {
   "cell_type": "code",
   "execution_count": 39,
   "metadata": {},
   "outputs": [
    {
     "name": "stdout",
     "output_type": "stream",
     "text": [
      "['C:\\\\Users\\\\sanyalam\\\\Documents\\\\coding practice', 'C:\\\\Users\\\\sanyalam\\\\Anaconda3\\\\python38.zip', 'C:\\\\Users\\\\sanyalam\\\\Anaconda3\\\\DLLs', 'C:\\\\Users\\\\sanyalam\\\\Anaconda3\\\\lib', 'C:\\\\Users\\\\sanyalam\\\\Anaconda3', '', 'C:\\\\Users\\\\sanyalam\\\\Anaconda3\\\\lib\\\\site-packages', 'C:\\\\Users\\\\sanyalam\\\\Anaconda3\\\\lib\\\\site-packages\\\\win32', 'C:\\\\Users\\\\sanyalam\\\\Anaconda3\\\\lib\\\\site-packages\\\\win32\\\\lib', 'C:\\\\Users\\\\sanyalam\\\\Anaconda3\\\\lib\\\\site-packages\\\\Pythonwin', 'C:\\\\Users\\\\sanyalam\\\\Anaconda3\\\\lib\\\\site-packages\\\\IPython\\\\extensions', 'C:\\\\Users\\\\sanyalam\\\\.ipython']\n"
     ]
    }
   ],
   "source": [
    "import sys\n",
    "print(sys.path)"
   ]
  },
  {
   "cell_type": "code",
   "execution_count": 21,
   "metadata": {},
   "outputs": [
    {
     "name": "stdout",
     "output_type": "stream",
     "text": [
      "The name is Amartya and the age is 22\n",
      "School name is Sanyal\n"
     ]
    }
   ],
   "source": [
    "class info:\n",
    "    school=\"Sanyal\"\n",
    "    \n",
    "    def __init__(self,name,age):\n",
    "        self.name=name\n",
    "        self.age=age\n",
    "        \n",
    "    def update(self):\n",
    "        print(\"The name is {} and the age is {}\".format(self.name,self.age))\n",
    "    \n",
    "    @classmethod\n",
    "    def schoolinfo(cls1):\n",
    "        print(\"School name is \"+cls1.school)\n",
    "\n",
    "c2=info(\"Amartya\",22)\n",
    "\n",
    "c2.update()\n",
    "info.schoolinfo()"
   ]
  },
  {
   "cell_type": "code",
   "execution_count": 9,
   "metadata": {},
   "outputs": [
    {
     "name": "stdout",
     "output_type": "stream",
     "text": [
      "Keel\n",
      "Selfish\n"
     ]
    }
   ],
   "source": [
    "list2=[\"Keel\",\"Normal\",\"Selfish\"]\n",
    "for index,item in enumerate(list2):\n",
    "    if index%2 != 1:\n",
    "        print(item)"
   ]
  },
  {
   "cell_type": "code",
   "execution_count": 25,
   "metadata": {},
   "outputs": [
    {
     "name": "stdout",
     "output_type": "stream",
     "text": [
      "H and e and l and l and o\n"
     ]
    }
   ],
   "source": [
    "b=\"Hello\"\n",
    "o=\" and \".join(b)\n",
    "print(o)"
   ]
  },
  {
   "cell_type": "code",
   "execution_count": 33,
   "metadata": {},
   "outputs": [
    {
     "data": {
      "text/plain": [
       "[1, 4, 9, 16, 25, 36]"
      ]
     },
     "execution_count": 33,
     "metadata": {},
     "output_type": "execute_result"
    }
   ],
   "source": [
    "def numbers(nums):\n",
    "    result=[]\n",
    "    for i in nums:\n",
    "        result.append (i*i)\n",
    "    return result\n",
    "\n",
    "numbers([1,2,3,4,5,6])\n"
   ]
  },
  {
   "cell_type": "code",
   "execution_count": 2,
   "metadata": {},
   "outputs": [
    {
     "name": "stdout",
     "output_type": "stream",
     "text": [
      "Kangaroo 23\n",
      "Baby Kangaroo\n",
      "Baby Kangaroo\n"
     ]
    }
   ],
   "source": [
    "#class within a class\n",
    "class Student:\n",
    "    def __init__(self,name,roll):\n",
    "        self.name=name\n",
    "        self.roll=roll\n",
    "        self.bab=self.baby()\n",
    "    \n",
    "    def show(self):\n",
    "        print(self.name,self.roll)\n",
    "        self.bab.hello()\n",
    "        \n",
    "    class baby:\n",
    "        def __init__(self):\n",
    "            self.n1=\"Baby Kangaroo\"\n",
    "            \n",
    "        def hello(self):\n",
    "            print(self.n1)\n",
    "            \n",
    "        \n",
    "\n",
    "s1=Student(\"Kangaroo\",23)\n",
    "s1.show()\n",
    "c1=s1.baby()\n",
    "c1.hello()\n"
   ]
  },
  {
   "cell_type": "code",
   "execution_count": 57,
   "metadata": {},
   "outputs": [
    {
     "name": "stdout",
     "output_type": "stream",
     "text": [
      "[1, 4, 9]\n"
     ]
    }
   ],
   "source": [
    "def sum1(a):\n",
    "    result1=[]\n",
    "    for i in a:\n",
    "        result1.append(i*i)\n",
    "    return result1\n",
    "\n",
    "nums=sum1([1,2,3])\n",
    "print(nums)"
   ]
  },
  {
   "cell_type": "code",
   "execution_count": 4,
   "metadata": {},
   "outputs": [
    {
     "name": "stdout",
     "output_type": "stream",
     "text": [
      "[1, 1]\n",
      "[4, 8]\n",
      "[9, 27]\n"
     ]
    }
   ],
   "source": [
    "def square(a):\n",
    "    return a*a\n",
    "def cube(a):\n",
    "    return a*a*a\n",
    "func=[square,cube]\n",
    "for i in range(1,4):\n",
    "    z=list(map(lambda x: x(i),func))\n",
    "    print (z)"
   ]
  },
  {
   "cell_type": "code",
   "execution_count": 13,
   "metadata": {},
   "outputs": [
    {
     "name": "stdout",
     "output_type": "stream",
     "text": [
      "[6, 7]\n"
     ]
    }
   ],
   "source": [
    "list2=[1,2,3,4,5,6,7]\n",
    "def is_greater(nums):\n",
    "    return (nums>5)\n",
    "\n",
    "x=list(filter(is_greater,list2))\n",
    "print(x)"
   ]
  },
  {
   "cell_type": "code",
   "execution_count": 15,
   "metadata": {},
   "outputs": [
    {
     "name": "stdout",
     "output_type": "stream",
     "text": [
      "SRCC\n",
      "Instance method of outer class\n",
      "Amartya\n",
      "Instance method of inner class\n"
     ]
    }
   ],
   "source": [
    "class College:\n",
    "    def __init__(self):\n",
    "        self.college=\"SRCC\"\n",
    "        print(self.college)\n",
    "    \n",
    "    class Student:\n",
    "        def __init__(self):\n",
    "            self.name=\"Amartya\"\n",
    "            print(self.name)\n",
    "        \n",
    "        def displayS(self):\n",
    "            print(\"Instance method of inner class\")\n",
    "    \n",
    "    def displayC(self):\n",
    "        print(\"Instance method of outer class\")\n",
    "\n",
    "s=College()\n",
    "s.displayC()\n",
    "\n",
    "c=s.Student()\n",
    "c.displayS()"
   ]
  },
  {
   "cell_type": "code",
   "execution_count": 1,
   "metadata": {},
   "outputs": [
    {
     "name": "stdout",
     "output_type": "stream",
     "text": [
      "Enter the stringabcd\n",
      "a ab abc abcd \n",
      "b bc bcd \n",
      "c cd \n",
      "d \n"
     ]
    }
   ],
   "source": [
    "str1=input(\"Enter the string\")\n",
    "#list1=[]\n",
    "for i in range(len(str1)):\n",
    "    for j in range(i+1,len(str1)+1):\n",
    "        z=str1[i:j]\n",
    "        #list1.append(z)\n",
    "        print(z, end= \" \")\n",
    "    print()\n",
    "#print (list1)"
   ]
  },
  {
   "cell_type": "code",
   "execution_count": 48,
   "metadata": {},
   "outputs": [
    {
     "name": "stdout",
     "output_type": "stream",
     "text": [
      "Enter your choice of number b/w 0 and 20 \n",
      "12\n",
      "Your choice is too high\n",
      "Enter your choice of number b/w 0 and 20 \n",
      "3\n",
      "Your choice is too low\n",
      "Enter your choice of number b/w 0 and 20 \n",
      "10\n",
      "Your choice is too high\n",
      "Enter your choice of number b/w 0 and 20 \n",
      "9\n",
      "Your choice is too high\n",
      "Enter your choice of number b/w 0 and 20 \n",
      "8\n",
      "Your choice is too high\n",
      "Enter your choice of number b/w 0 and 20 \n",
      "7\n",
      "Your choice is too high\n",
      "Enter your choice of number b/w 0 and 20 \n",
      "6\n",
      "Your choice is too high\n",
      "Enter your choice of number b/w 0 and 20 \n",
      "5\n",
      "Congrats you won\n"
     ]
    }
   ],
   "source": [
    "import random\n",
    "n=20\n",
    "computer_guess=random.randint(0,20)\n",
    "guess=0\n",
    "while guess is not computer_guess:\n",
    "    guess=int(input(\"Enter your choice of number b/w 0 and 20 \\n\"))\n",
    "    if guess>0:\n",
    "        if guess<computer_guess:\n",
    "            print(\"Your choice is too low\")\n",
    "        elif guess>computer_guess:\n",
    "            print(\"Your choice is too high\")\n",
    "    else:\n",
    "        print(\"Sorry you are giving up early\")\n",
    "else:\n",
    "    print(\"Congrats you won\")"
   ]
  },
  {
   "cell_type": "code",
   "execution_count": 59,
   "metadata": {},
   "outputs": [
    {
     "name": "stdout",
     "output_type": "stream",
     "text": [
      "Enter the number till which you want to iterate 10\n",
      "3 4 5\n",
      "6 8 10\n"
     ]
    }
   ],
   "source": [
    "from math import sqrt\n",
    "n=int(input(\"Enter the number till which you want to iterate \"))\n",
    "for a in range(1,n+1):\n",
    "    for b in range(a,n):\n",
    "        c_square=a**2+b**2\n",
    "        c=int(sqrt(c_square))\n",
    "        if (c_square-c**2==0):\n",
    "            print (a,b,c)"
   ]
  },
  {
   "cell_type": "code",
   "execution_count": 28,
   "metadata": {},
   "outputs": [
    {
     "name": "stdout",
     "output_type": "stream",
     "text": [
      "Amartya 23\n",
      "22\n"
     ]
    }
   ],
   "source": [
    "#inheritance, passing a class through another class so that you can get the attributes of both the classes\n",
    "class Rec:\n",
    "        def update(self):\n",
    "            self.name=\"Amartya\"\n",
    "            self.age=23\n",
    "            print(self.name,self.age)\n",
    "\n",
    "class Rec1(Rec):\n",
    "    def num1(self):\n",
    "        self.number=22\n",
    "        print(self.number)\n",
    "        \n",
    "s1=Rec1()\n",
    "s1.update()\n",
    "s1.num1()"
   ]
  },
  {
   "cell_type": "code",
   "execution_count": 35,
   "metadata": {},
   "outputs": [
    {
     "name": "stdout",
     "output_type": "stream",
     "text": [
      "Amartya 22 Amazon 2.5\n"
     ]
    }
   ],
   "source": [
    "#calling a function without using . join\n",
    "class Character1():\n",
    "    name=\"Amartya\"\n",
    "    age=22\n",
    "    Organization=\"Amazon\"\n",
    "    Salary=2.5\n",
    "\n",
    "#this is not instance method\n",
    "def update1(my_character):\n",
    "    print(my_character.name,\n",
    "         my_character.age,\n",
    "         my_character.Organization,\n",
    "         my_character.Salary)\n",
    "\n",
    "c1=Character1()\n",
    "update1(c1)"
   ]
  },
  {
   "cell_type": "code",
   "execution_count": 40,
   "metadata": {},
   "outputs": [
    {
     "name": "stdout",
     "output_type": "stream",
     "text": [
      "50.000000%\n"
     ]
    }
   ],
   "source": [
    "#\n",
    "x=format(0.5, '%')\n",
    "print(x)"
   ]
  },
  {
   "cell_type": "code",
   "execution_count": 6,
   "metadata": {},
   "outputs": [
    {
     "name": "stdout",
     "output_type": "stream",
     "text": [
      "This is from 1st class\n",
      "This is from 2nd class\n",
      "Hi there from A\n"
     ]
    }
   ],
   "source": [
    "class A:\n",
    "    def __init__(self):\n",
    "        print(\"This is from 1st class\")\n",
    "        \n",
    "    def update(self):\n",
    "        print(\"Hi there from A\")\n",
    "        \n",
    "class B(A):\n",
    "    def __init__(self):\n",
    "        super().__init__()#this is to call constructor from 1st class\n",
    "        print(\"This is from 2nd class\")\n",
    "        \n",
    "\n",
    "c=B()\n",
    "c.update()"
   ]
  },
  {
   "cell_type": "code",
   "execution_count": 20,
   "metadata": {},
   "outputs": [
    {
     "name": "stdout",
     "output_type": "stream",
     "text": [
      "Compiling\n",
      "Running\n"
     ]
    }
   ],
   "source": [
    "#polymorphism\n",
    "\n",
    "class Pycharm:\n",
    "    def execute(self):   #execute method should be there for IDE\n",
    "        print(\"Compiling\")\n",
    "        print(\"Running\")\n",
    "\n",
    "class Laptop:\n",
    "    def code(self,ide):\n",
    "        ide.execute()\n",
    "\n",
    "ide=Pycharm()\n",
    "\n",
    "lap=Laptop()\n",
    "lap.code(ide)"
   ]
  },
  {
   "cell_type": "code",
   "execution_count": 26,
   "metadata": {},
   "outputs": [
    {
     "name": "stdout",
     "output_type": "stream",
     "text": [
      "This is the start of execution\n",
      "This is the middle statement\n",
      "This is the end of execution\n",
      "This is the start of execution\n",
      "How are u\n",
      "This is the end of execution\n"
     ]
    }
   ],
   "source": [
    "#decorators using functions only\n",
    "\n",
    "def dec1(func1):\n",
    "    def dec2():\n",
    "        print(\"This is the start of execution\")\n",
    "        func1()\n",
    "        print(\"This is the end of execution\")\n",
    "    return dec2\n",
    "\n",
    "def dec3():\n",
    "    print(\"This is the middle statement\")\n",
    "\n",
    "@dec1\n",
    "def dec4():\n",
    "    print(\"How are u\")\n",
    "\n",
    "dec3=dec1(dec3)\n",
    "dec3()               \n",
    "dec4()"
   ]
  },
  {
   "cell_type": "code",
   "execution_count": 8,
   "metadata": {},
   "outputs": [
    {
     "data": {
      "text/plain": [
       "1.3333333333333333"
      ]
     },
     "execution_count": 8,
     "metadata": {},
     "output_type": "execute_result"
    }
   ],
   "source": [
    "\n",
    "    def outer(func1):\n",
    "        def inner(x,y):\n",
    "            if x<y:\n",
    "                x,y=y,x\n",
    "                return func1(x,y)\n",
    "        return inner\n",
    "    \n",
    "    @outer\n",
    "    def update2(a,b):\n",
    "        smart_div=a/b\n",
    "        return smart_div\n",
    "\n",
    "update2(3,4)\n",
    "    "
   ]
  },
  {
   "cell_type": "code",
   "execution_count": 26,
   "metadata": {},
   "outputs": [
    {
     "name": "stdout",
     "output_type": "stream",
     "text": [
      "Karan\n"
     ]
    }
   ],
   "source": [
    "class hello1:\n",
    "    def __init__(self,name,age):\n",
    "        self.name=name\n",
    "        self.age=age\n",
    "    def update2(self):\n",
    "        print(self.name,self.age)\n",
    "    \n",
    "    @classmethod\n",
    "    def new_update(cls,newname):\n",
    "        cls.newname=newname\n",
    "        \n",
    "    @classmethod\n",
    "    def parsing1(cls,string1):\n",
    "        #z=string1.split(\"-\")\n",
    "        #return cls(z[0],z[1])\n",
    "        return cls(*string1.split(\"-\"))\n",
    "        \n",
    "h=hello1(\"A1\",34)\n",
    "#h.new_update(42)\n",
    "k=hello1.parsing1(\"Karan-34\")\n",
    "print(k.name)\n",
    "#print(h.newname)"
   ]
  },
  {
   "cell_type": "code",
   "execution_count": 30,
   "metadata": {},
   "outputs": [
    {
     "name": "stdout",
     "output_type": "stream",
     "text": [
      "harry weds merry\n"
     ]
    }
   ],
   "source": [
    "str1=\"harry-weds-merry\"\n",
    "print(*str1.split(\"-\"))"
   ]
  },
  {
   "cell_type": "code",
   "execution_count": null,
   "metadata": {},
   "outputs": [],
   "source": []
  },
  {
   "cell_type": "code",
   "execution_count": 5,
   "metadata": {},
   "outputs": [
    {
     "name": "stdout",
     "output_type": "stream",
     "text": [
      "7\n"
     ]
    }
   ],
   "source": [
    "#multiple inheritance will always take the first class\n",
    "class Employee:\n",
    "    no_of_languages=7\n",
    "    def __init__(self,name,age):\n",
    "        self.name=name\n",
    "        self.age=age\n",
    "        \n",
    "    def printemployee(self):\n",
    "        print(self.name,self.age)\n",
    "\n",
    "class Player(Employee):\n",
    "    no_of_games=8\n",
    "    \n",
    "    def printlanguage(self,org,language):\n",
    "        self.language=language\n",
    "        self.org=org\n",
    "        print(self.language)\n",
    "\n",
    "class Programmer(Player):\n",
    "    pass\n",
    "\n",
    "k1=Programmer(\"C++\",32)#in this example only the first class mentioned is taken\n",
    "print(k1.no_of_languages)\n",
    "#k1.printlanguage()\n",
    "#k2=Player(\"Naman\",\"C++\")\n",
    "#k2.printlanguage()\n",
    "#print(k1.no_of_games)"
   ]
  },
  {
   "cell_type": "code",
   "execution_count": 6,
   "metadata": {},
   "outputs": [
    {
     "name": "stdout",
     "output_type": "stream",
     "text": [
      "This P1 is silver\n",
      "This P1 is a Mclaren\n",
      "This P1 is owned by elon musk\n"
     ]
    }
   ],
   "source": [
    "#ducktyping-polymorphism\n",
    "class P1:\n",
    "    \n",
    "    def attributes(self):       #these both should be the same\n",
    "        print(\"The P1 is black\")\n",
    "        print(\"This p1 is a Mclaren\")\n",
    "        \n",
    "class P40:\n",
    "    def attributes(self):   #these both should be the same\n",
    "        print(\"This P1 is silver\")\n",
    "        print(\"This P1 is a Mclaren\")\n",
    "        print(\"This P1 is owned by elon musk\")\n",
    "        \n",
    "class final:\n",
    "    def attributes1(self,my_var):\n",
    "        my_var.attributes()\n",
    "        \n",
    "my_var=P40()\n",
    "var1=final()\n",
    "var1.attributes1(my_var)\n",
    "        "
   ]
  },
  {
   "cell_type": "code",
   "execution_count": 26,
   "metadata": {},
   "outputs": [
    {
     "name": "stdout",
     "output_type": "stream",
     "text": [
      "Enter your number selection between 1 to 10023\n",
      "Your choice is low, please revise \n",
      "\n",
      "No of guesses left: 4\n",
      "Enter your number selection between 1 to 10055\n",
      "Your choice is too high, please revise \n",
      "\n",
      "No of guesses left: 3\n",
      "Enter your number selection between 1 to 10040\n",
      "Your choice is too high, please revise \n",
      "\n",
      "No of guesses left: 2\n",
      "Enter your number selection between 1 to 10033\n",
      "Your choice is too high, please revise \n",
      "\n",
      "No of guesses left: 1\n",
      "Enter your number selection between 1 to 10030\n",
      "Your choice is too high, please revise \n",
      "\n",
      "No of guesses left: 0\n",
      "Thank you options are over you lost, the correct answer was: 27\n"
     ]
    }
   ],
   "source": [
    "#math generator\n",
    "import random\n",
    "player_choice=random.randint(1,100)\n",
    "guess=5\n",
    "while guess!=0:\n",
    "    your_choice=int(input(\"Enter your number selection between 1 to 100\"))\n",
    "    if your_choice>player_choice:\n",
    "        print(\"Your choice is too high, please revise \\n\")\n",
    "    elif your_choice<player_choice:\n",
    "        print(\"Your choice is low, please revise \\n\")\n",
    "    else:\n",
    "        print(\"You are a genius! you won\")\n",
    "        break\n",
    "    \n",
    "    guess=guess-1\n",
    "    print(\"No of guesses left:\", guess)\n",
    "    if guess==0:\n",
    "        print(\"Thank you options are over you lost, the correct answer was:\" ,player_choice)\n",
    "        break\n"
   ]
  },
  {
   "cell_type": "code",
   "execution_count": null,
   "metadata": {},
   "outputs": [],
   "source": [
    "#faulty calculator\n",
    "int1=int(input(\"Enter for how many numbers you want to start operation? \\n\"))\n",
    "print(\"Mention your operaation type:  +, - , * \\n\")\n",
    "operator=input()\n",
    "sum1=0\n",
    "subtract=0\n",
    "mult=1\n",
    "for i in range(int1):\n",
    "    n=int(input(\"Enter your numbers\"))\n",
    "    if operator==\"+\":\n",
    "        sum1+=n\n",
    "        print(sum1)\n",
    "    elif operator==\"-\":\n",
    "        subtract1=n\n",
    "        subtract=subtract-n\n",
    "        print(subtract)\n",
    "    elif operator==\"*\":\n",
    "        mult=mult*n\n",
    "        print(mult)\n",
    "    else:\n",
    "        print(\"Sorry not possible\")\n",
    "        break"
   ]
  },
  {
   "cell_type": "code",
   "execution_count": null,
   "metadata": {},
   "outputs": [],
   "source": []
  },
  {
   "cell_type": "code",
   "execution_count": null,
   "metadata": {},
   "outputs": [],
   "source": []
  },
  {
   "cell_type": "code",
   "execution_count": null,
   "metadata": {},
   "outputs": [],
   "source": []
  }
 ],
 "metadata": {
  "kernelspec": {
   "display_name": "Python 3",
   "language": "python",
   "name": "python3"
  },
  "language_info": {
   "codemirror_mode": {
    "name": "ipython",
    "version": 3
   },
   "file_extension": ".py",
   "mimetype": "text/x-python",
   "name": "python",
   "nbconvert_exporter": "python",
   "pygments_lexer": "ipython3",
   "version": "3.8.5"
  }
 },
 "nbformat": 4,
 "nbformat_minor": 4
}
